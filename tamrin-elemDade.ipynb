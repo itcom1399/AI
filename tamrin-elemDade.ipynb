{
 "cells": [
  {
   "cell_type": "code",
   "execution_count": 48,
   "id": "d0d82e8d-a637-4a22-8829-4a35ac87a0de",
   "metadata": {},
   "outputs": [
    {
     "name": "stdout",
     "output_type": "stream",
     "text": [
      "Requirement already satisfied: seaborn in c:\\users\\davoodi\\appdata\\local\\programs\\python\\python312\\lib\\site-packages (0.13.2)\n",
      "Requirement already satisfied: numpy!=1.24.0,>=1.20 in c:\\users\\davoodi\\appdata\\local\\programs\\python\\python312\\lib\\site-packages (from seaborn) (2.1.2)\n",
      "Requirement already satisfied: pandas>=1.2 in c:\\users\\davoodi\\appdata\\local\\programs\\python\\python312\\lib\\site-packages (from seaborn) (2.2.3)\n",
      "Requirement already satisfied: matplotlib!=3.6.1,>=3.4 in c:\\users\\davoodi\\appdata\\local\\programs\\python\\python312\\lib\\site-packages (from seaborn) (3.9.2)\n",
      "Requirement already satisfied: contourpy>=1.0.1 in c:\\users\\davoodi\\appdata\\local\\programs\\python\\python312\\lib\\site-packages (from matplotlib!=3.6.1,>=3.4->seaborn) (1.3.0)\n",
      "Requirement already satisfied: cycler>=0.10 in c:\\users\\davoodi\\appdata\\local\\programs\\python\\python312\\lib\\site-packages (from matplotlib!=3.6.1,>=3.4->seaborn) (0.12.1)\n",
      "Requirement already satisfied: fonttools>=4.22.0 in c:\\users\\davoodi\\appdata\\local\\programs\\python\\python312\\lib\\site-packages (from matplotlib!=3.6.1,>=3.4->seaborn) (4.54.1)\n",
      "Requirement already satisfied: kiwisolver>=1.3.1 in c:\\users\\davoodi\\appdata\\local\\programs\\python\\python312\\lib\\site-packages (from matplotlib!=3.6.1,>=3.4->seaborn) (1.4.7)\n",
      "Requirement already satisfied: packaging>=20.0 in c:\\users\\davoodi\\appdata\\local\\programs\\python\\python312\\lib\\site-packages (from matplotlib!=3.6.1,>=3.4->seaborn) (24.1)\n",
      "Requirement already satisfied: pillow>=8 in c:\\users\\davoodi\\appdata\\local\\programs\\python\\python312\\lib\\site-packages (from matplotlib!=3.6.1,>=3.4->seaborn) (11.0.0)\n",
      "Requirement already satisfied: pyparsing>=2.3.1 in c:\\users\\davoodi\\appdata\\local\\programs\\python\\python312\\lib\\site-packages (from matplotlib!=3.6.1,>=3.4->seaborn) (3.2.0)\n",
      "Requirement already satisfied: python-dateutil>=2.7 in c:\\users\\davoodi\\appdata\\local\\programs\\python\\python312\\lib\\site-packages (from matplotlib!=3.6.1,>=3.4->seaborn) (2.9.0.post0)\n",
      "Requirement already satisfied: pytz>=2020.1 in c:\\users\\davoodi\\appdata\\local\\programs\\python\\python312\\lib\\site-packages (from pandas>=1.2->seaborn) (2024.2)\n",
      "Requirement already satisfied: tzdata>=2022.7 in c:\\users\\davoodi\\appdata\\local\\programs\\python\\python312\\lib\\site-packages (from pandas>=1.2->seaborn) (2024.2)\n",
      "Requirement already satisfied: six>=1.5 in c:\\users\\davoodi\\appdata\\local\\programs\\python\\python312\\lib\\site-packages (from python-dateutil>=2.7->matplotlib!=3.6.1,>=3.4->seaborn) (1.16.0)\n"
     ]
    }
   ],
   "source": [
    "!pip install seaborn"
   ]
  },
  {
   "cell_type": "code",
   "execution_count": 49,
   "id": "c09ccf79-2c34-49c5-9061-a18d86e2cdb9",
   "metadata": {},
   "outputs": [],
   "source": [
    "import pandas as pd\n",
    "import numpy as np\n",
    "import matplotlib.pyplot as plt\n",
    "import seaborn as sns\n",
    "%matplotlib inline"
   ]
  },
  {
   "cell_type": "code",
   "execution_count": 50,
   "id": "36e80c6c-592b-481e-9a67-66fa9adb9445",
   "metadata": {},
   "outputs": [
    {
     "data": {
      "text/html": [
       "<div>\n",
       "<style scoped>\n",
       "    .dataframe tbody tr th:only-of-type {\n",
       "        vertical-align: middle;\n",
       "    }\n",
       "\n",
       "    .dataframe tbody tr th {\n",
       "        vertical-align: top;\n",
       "    }\n",
       "\n",
       "    .dataframe thead th {\n",
       "        text-align: right;\n",
       "    }\n",
       "</style>\n",
       "<table border=\"1\" class=\"dataframe\">\n",
       "  <thead>\n",
       "    <tr style=\"text-align: right;\">\n",
       "      <th></th>\n",
       "      <th>Area</th>\n",
       "      <th>Room</th>\n",
       "      <th>Parking</th>\n",
       "      <th>Warehouse</th>\n",
       "      <th>Elevator</th>\n",
       "      <th>Address</th>\n",
       "      <th>Price</th>\n",
       "      <th>Price(USD)</th>\n",
       "    </tr>\n",
       "  </thead>\n",
       "  <tbody>\n",
       "    <tr>\n",
       "      <th>0</th>\n",
       "      <td>63</td>\n",
       "      <td>1</td>\n",
       "      <td>True</td>\n",
       "      <td>True</td>\n",
       "      <td>True</td>\n",
       "      <td>Shahran</td>\n",
       "      <td>1.850000e+09</td>\n",
       "      <td>61666.67</td>\n",
       "    </tr>\n",
       "    <tr>\n",
       "      <th>1</th>\n",
       "      <td>60</td>\n",
       "      <td>1</td>\n",
       "      <td>True</td>\n",
       "      <td>True</td>\n",
       "      <td>True</td>\n",
       "      <td>Shahran</td>\n",
       "      <td>1.850000e+09</td>\n",
       "      <td>61666.67</td>\n",
       "    </tr>\n",
       "    <tr>\n",
       "      <th>2</th>\n",
       "      <td>79</td>\n",
       "      <td>2</td>\n",
       "      <td>True</td>\n",
       "      <td>True</td>\n",
       "      <td>True</td>\n",
       "      <td>Pardis</td>\n",
       "      <td>5.500000e+08</td>\n",
       "      <td>18333.33</td>\n",
       "    </tr>\n",
       "    <tr>\n",
       "      <th>3</th>\n",
       "      <td>95</td>\n",
       "      <td>2</td>\n",
       "      <td>True</td>\n",
       "      <td>True</td>\n",
       "      <td>True</td>\n",
       "      <td>Shahrake Qods</td>\n",
       "      <td>9.025000e+08</td>\n",
       "      <td>30083.33</td>\n",
       "    </tr>\n",
       "    <tr>\n",
       "      <th>4</th>\n",
       "      <td>123</td>\n",
       "      <td>2</td>\n",
       "      <td>True</td>\n",
       "      <td>True</td>\n",
       "      <td>True</td>\n",
       "      <td>Shahrake Gharb</td>\n",
       "      <td>7.000000e+09</td>\n",
       "      <td>233333.33</td>\n",
       "    </tr>\n",
       "  </tbody>\n",
       "</table>\n",
       "</div>"
      ],
      "text/plain": [
       "  Area  Room  Parking  Warehouse  Elevator         Address         Price  \\\n",
       "0   63     1     True       True      True         Shahran  1.850000e+09   \n",
       "1   60     1     True       True      True         Shahran  1.850000e+09   \n",
       "2   79     2     True       True      True          Pardis  5.500000e+08   \n",
       "3   95     2     True       True      True   Shahrake Qods  9.025000e+08   \n",
       "4  123     2     True       True      True  Shahrake Gharb  7.000000e+09   \n",
       "\n",
       "   Price(USD)  \n",
       "0    61666.67  \n",
       "1    61666.67  \n",
       "2    18333.33  \n",
       "3    30083.33  \n",
       "4   233333.33  "
      ]
     },
     "execution_count": 50,
     "metadata": {},
     "output_type": "execute_result"
    }
   ],
   "source": [
    "df = pd.read_csv('housePrice.csv')\n",
    "df.head()"
   ]
  },
  {
   "cell_type": "code",
   "execution_count": 51,
   "id": "c39aa60c-cd97-4911-99e5-475397571d7a",
   "metadata": {},
   "outputs": [
    {
     "name": "stdout",
     "output_type": "stream",
     "text": [
      "<class 'pandas.core.frame.DataFrame'>\n",
      "RangeIndex: 3479 entries, 0 to 3478\n",
      "Data columns (total 8 columns):\n",
      " #   Column      Non-Null Count  Dtype  \n",
      "---  ------      --------------  -----  \n",
      " 0   Area        3479 non-null   object \n",
      " 1   Room        3479 non-null   int64  \n",
      " 2   Parking     3479 non-null   bool   \n",
      " 3   Warehouse   3479 non-null   bool   \n",
      " 4   Elevator    3479 non-null   bool   \n",
      " 5   Address     3456 non-null   object \n",
      " 6   Price       3479 non-null   float64\n",
      " 7   Price(USD)  3479 non-null   float64\n",
      "dtypes: bool(3), float64(2), int64(1), object(2)\n",
      "memory usage: 146.2+ KB\n"
     ]
    }
   ],
   "source": [
    "df.info()"
   ]
  },
  {
   "cell_type": "code",
   "execution_count": 52,
   "id": "9f2e0082-a1f4-4aae-9cfe-13876222f6e9",
   "metadata": {},
   "outputs": [
    {
     "data": {
      "text/html": [
       "<div>\n",
       "<style scoped>\n",
       "    .dataframe tbody tr th:only-of-type {\n",
       "        vertical-align: middle;\n",
       "    }\n",
       "\n",
       "    .dataframe tbody tr th {\n",
       "        vertical-align: top;\n",
       "    }\n",
       "\n",
       "    .dataframe thead th {\n",
       "        text-align: right;\n",
       "    }\n",
       "</style>\n",
       "<table border=\"1\" class=\"dataframe\">\n",
       "  <thead>\n",
       "    <tr style=\"text-align: right;\">\n",
       "      <th></th>\n",
       "      <th>Room</th>\n",
       "      <th>Price</th>\n",
       "      <th>Price(USD)</th>\n",
       "    </tr>\n",
       "  </thead>\n",
       "  <tbody>\n",
       "    <tr>\n",
       "      <th>count</th>\n",
       "      <td>3479.000000</td>\n",
       "      <td>3.479000e+03</td>\n",
       "      <td>3.479000e+03</td>\n",
       "    </tr>\n",
       "    <tr>\n",
       "      <th>mean</th>\n",
       "      <td>2.079908</td>\n",
       "      <td>5.359023e+09</td>\n",
       "      <td>1.786341e+05</td>\n",
       "    </tr>\n",
       "    <tr>\n",
       "      <th>std</th>\n",
       "      <td>0.758275</td>\n",
       "      <td>8.099935e+09</td>\n",
       "      <td>2.699978e+05</td>\n",
       "    </tr>\n",
       "    <tr>\n",
       "      <th>min</th>\n",
       "      <td>0.000000</td>\n",
       "      <td>3.600000e+06</td>\n",
       "      <td>1.200000e+02</td>\n",
       "    </tr>\n",
       "    <tr>\n",
       "      <th>25%</th>\n",
       "      <td>2.000000</td>\n",
       "      <td>1.418250e+09</td>\n",
       "      <td>4.727500e+04</td>\n",
       "    </tr>\n",
       "    <tr>\n",
       "      <th>50%</th>\n",
       "      <td>2.000000</td>\n",
       "      <td>2.900000e+09</td>\n",
       "      <td>9.666667e+04</td>\n",
       "    </tr>\n",
       "    <tr>\n",
       "      <th>75%</th>\n",
       "      <td>2.000000</td>\n",
       "      <td>6.000000e+09</td>\n",
       "      <td>2.000000e+05</td>\n",
       "    </tr>\n",
       "    <tr>\n",
       "      <th>max</th>\n",
       "      <td>5.000000</td>\n",
       "      <td>9.240000e+10</td>\n",
       "      <td>3.080000e+06</td>\n",
       "    </tr>\n",
       "  </tbody>\n",
       "</table>\n",
       "</div>"
      ],
      "text/plain": [
       "              Room         Price    Price(USD)\n",
       "count  3479.000000  3.479000e+03  3.479000e+03\n",
       "mean      2.079908  5.359023e+09  1.786341e+05\n",
       "std       0.758275  8.099935e+09  2.699978e+05\n",
       "min       0.000000  3.600000e+06  1.200000e+02\n",
       "25%       2.000000  1.418250e+09  4.727500e+04\n",
       "50%       2.000000  2.900000e+09  9.666667e+04\n",
       "75%       2.000000  6.000000e+09  2.000000e+05\n",
       "max       5.000000  9.240000e+10  3.080000e+06"
      ]
     },
     "execution_count": 52,
     "metadata": {},
     "output_type": "execute_result"
    }
   ],
   "source": [
    "df.describe()"
   ]
  },
  {
   "cell_type": "code",
   "execution_count": 53,
   "id": "9b127f3d-5746-489a-8ca3-1b55887f59a0",
   "metadata": {},
   "outputs": [
    {
     "name": "stdout",
     "output_type": "stream",
     "text": [
      "<class 'pandas.core.frame.DataFrame'>\n",
      "Index: 3450 entries, 0 to 3478\n",
      "Data columns (total 8 columns):\n",
      " #   Column      Non-Null Count  Dtype  \n",
      "---  ------      --------------  -----  \n",
      " 0   Area        3450 non-null   float64\n",
      " 1   Room        3450 non-null   int64  \n",
      " 2   Parking     3450 non-null   bool   \n",
      " 3   Warehouse   3450 non-null   bool   \n",
      " 4   Elevator    3450 non-null   bool   \n",
      " 5   Address     3450 non-null   object \n",
      " 6   Price       3450 non-null   float64\n",
      " 7   Price(USD)  3450 non-null   float64\n",
      "dtypes: bool(3), float64(3), int64(1), object(1)\n",
      "memory usage: 171.8+ KB\n",
      "None\n",
      "    Area  Room  Parking  Warehouse  Elevator         Address         Price  \\\n",
      "0   63.0     1     True       True      True         Shahran  1.850000e+09   \n",
      "1   60.0     1     True       True      True         Shahran  1.850000e+09   \n",
      "2   79.0     2     True       True      True          Pardis  5.500000e+08   \n",
      "3   95.0     2     True       True      True   Shahrake Qods  9.025000e+08   \n",
      "4  123.0     2     True       True      True  Shahrake Gharb  7.000000e+09   \n",
      "\n",
      "   Price(USD)  \n",
      "0    61666.67  \n",
      "1    61666.67  \n",
      "2    18333.33  \n",
      "3    30083.33  \n",
      "4   233333.33  \n"
     ]
    }
   ],
   "source": [
    "\n",
    "\n",
    "\n",
    "df = df.dropna(subset=['Address'])\n",
    "\n",
    "\n",
    "def clean_area(x):\n",
    "    try:\n",
    "        return float(x)\n",
    "    except:\n",
    "        return np.nan\n",
    "\n",
    "df['Area'] = df['Area'].apply(clean_area)\n",
    "\n",
    "\n",
    "df = df.dropna(subset=['Area'])\n",
    "df = df[df['Area'] < 10000]  \n",
    "\n",
    "\n",
    "print(df.info())\n",
    "print(df.head())"
   ]
  },
  {
   "cell_type": "code",
   "execution_count": 54,
   "id": "36b93121-373f-4e88-b903-3fe91cb769ca",
   "metadata": {},
   "outputs": [
    {
     "name": "stdout",
     "output_type": "stream",
     "text": [
      "    Area  Room  Parking  Warehouse  Elevator         Address         Price  \\\n",
      "0   63.0     1     True       True      True         Shahran  1.850000e+09   \n",
      "1   60.0     1     True       True      True         Shahran  1.850000e+09   \n",
      "2   79.0     2     True       True      True          Pardis  5.500000e+08   \n",
      "3   95.0     2     True       True      True   Shahrake Qods  9.025000e+08   \n",
      "4  123.0     2     True       True      True  Shahrake Gharb  7.000000e+09   \n",
      "\n",
      "   Price(USD)  \n",
      "0    61666.67  \n",
      "1    61666.67  \n",
      "2    18333.33  \n",
      "3    30083.33  \n",
      "4   233333.33  \n"
     ]
    }
   ],
   "source": [
    "\n",
    "# d = pd.get_dummies(df, columns=['Address'], drop_first=True)\n",
    "print(df.head())"
   ]
  },
  {
   "cell_type": "code",
   "execution_count": 55,
   "id": "7c5bf1ca-e2e3-49dc-b55f-5cf65a1990d0",
   "metadata": {},
   "outputs": [
    {
     "data": {
      "text/plain": [
       "Index(['Area', 'Room', 'Parking', 'Warehouse', 'Elevator', 'Address', 'Price',\n",
       "       'Price(USD)'],\n",
       "      dtype='object')"
      ]
     },
     "execution_count": 55,
     "metadata": {},
     "output_type": "execute_result"
    }
   ],
   "source": [
    "df.columns"
   ]
  },
  {
   "cell_type": "code",
   "execution_count": 56,
   "id": "0a82b3d6-757c-4487-9329-d9883dab27e8",
   "metadata": {},
   "outputs": [],
   "source": [
    "\n",
    "mean_price_by_address = df.groupby('Address')['Price(USD)'].mean()\n",
    "\n",
    "\n",
    "sorted_addresses = mean_price_by_address.sort_values()\n",
    "\n",
    "\n",
    "n = len(sorted_addresses)\n",
    "cheap = sorted_addresses[:n//3].index\n",
    "mid = sorted_addresses[n//3:2*n//3].index\n",
    "expensive = sorted_addresses[2*n//3:].index\n",
    "\n",
    "\n",
    "def categorize_address(addr):\n",
    "    if addr in cheap:\n",
    "        return 'Low'\n",
    "    elif addr in mid:\n",
    "        return 'Mid'\n",
    "    elif addr in expensive:\n",
    "        return 'High'\n",
    "    else:\n",
    "        return 'Other'\n",
    "\n",
    "df['Region'] = df['Address'].apply(categorize_address)\n",
    "\n",
    "df = pd.get_dummies(df, columns=['Region'], drop_first=True)\n",
    "df[['Region_Low', 'Region_Mid']] = df[['Region_Low', 'Region_Mid']].astype('int8')\n",
    "\n",
    "df = df.drop(columns=['Address'])\n",
    "\n",
    "\n"
   ]
  },
  {
   "cell_type": "code",
   "execution_count": 57,
   "id": "0713e322-8144-4d08-98dd-9c4e43dc2684",
   "metadata": {},
   "outputs": [],
   "source": [
    "bool_cols = ['Parking', 'Warehouse', 'Elevator']\n",
    "df[bool_cols] = df[bool_cols].astype('int8')\n"
   ]
  },
  {
   "cell_type": "code",
   "execution_count": 58,
   "id": "dc9d78dd-e0bf-41ec-956f-5bf6264858ee",
   "metadata": {},
   "outputs": [],
   "source": [
    "# df = df.astype({col: 'int8' for col in df.columns if col.startswith('Address_')})\n"
   ]
  },
  {
   "cell_type": "code",
   "execution_count": 59,
   "id": "3525775e-253c-48ac-81c3-224c4e67c5f3",
   "metadata": {},
   "outputs": [
    {
     "data": {
      "text/plain": [
       "Index(['Area', 'Room', 'Parking', 'Warehouse', 'Elevator', 'Price',\n",
       "       'Price(USD)', 'Region_Low', 'Region_Mid'],\n",
       "      dtype='object')"
      ]
     },
     "execution_count": 59,
     "metadata": {},
     "output_type": "execute_result"
    }
   ],
   "source": [
    "df.columns"
   ]
  },
  {
   "cell_type": "code",
   "execution_count": 60,
   "id": "ddcaa633-a5e3-4893-8bff-9fe7293746dd",
   "metadata": {},
   "outputs": [
    {
     "name": "stderr",
     "output_type": "stream",
     "text": [
      "C:\\Users\\Davoodi\\AppData\\Local\\Programs\\Python\\Python312\\Lib\\site-packages\\numpy\\_core\\fromnumeric.py:84: FutureWarning: The behavior of DataFrame.sum with axis=None is deprecated, in a future version this will reduce over both axes and return a scalar. To retain the old behavior, pass axis=0 (or do not pass axis)\n",
      "  return reduction(axis=axis, out=out, **passkwargs)\n"
     ]
    },
    {
     "data": {
      "text/plain": [
       "Area          0\n",
       "Room          0\n",
       "Parking       0\n",
       "Warehouse     0\n",
       "Elevator      0\n",
       "Price         0\n",
       "Price(USD)    0\n",
       "Region_Low    0\n",
       "Region_Mid    0\n",
       "dtype: int64"
      ]
     },
     "execution_count": 60,
     "metadata": {},
     "output_type": "execute_result"
    }
   ],
   "source": [
    "np.sum(df.isnull())"
   ]
  },
  {
   "cell_type": "code",
   "execution_count": 61,
   "id": "227326da-e752-447b-9d47-47ac77ad58f9",
   "metadata": {},
   "outputs": [
    {
     "name": "stdout",
     "output_type": "stream",
     "text": [
      "Series([], dtype: object)\n",
      "    Area  Room  Parking  Warehouse  Elevator         Price  Price(USD)  \\\n",
      "0   63.0     1        1          1         1  1.850000e+09    61666.67   \n",
      "1   60.0     1        1          1         1  1.850000e+09    61666.67   \n",
      "2   79.0     2        1          1         1  5.500000e+08    18333.33   \n",
      "3   95.0     2        1          1         1  9.025000e+08    30083.33   \n",
      "4  123.0     2        1          1         1  7.000000e+09   233333.33   \n",
      "\n",
      "   Region_Low  Region_Mid  \n",
      "0           0           1  \n",
      "1           0           1  \n",
      "2           1           0  \n",
      "3           1           0  \n",
      "4           0           0  \n"
     ]
    }
   ],
   "source": [
    "\n",
    "# df = df.astype({col: 'int8' for col in df.columns if col.startswith('Address_')})\n",
    "\n",
    "bool_cols = df.select_dtypes(include=['bool']).columns\n",
    "\n",
    "df[bool_cols] = df[bool_cols].astype('int8')\n",
    "\n",
    "print(df[bool_cols].dtypes)\n",
    "print(df.head())\n"
   ]
  },
  {
   "cell_type": "code",
   "execution_count": 62,
   "id": "65600b36-1129-46c6-b031-5e4f785bc4ed",
   "metadata": {},
   "outputs": [
    {
     "data": {
      "text/plain": [
       "np.int64(367)"
      ]
     },
     "execution_count": 62,
     "metadata": {},
     "output_type": "execute_result"
    }
   ],
   "source": [
    "np.sum(df.duplicated())"
   ]
  },
  {
   "cell_type": "code",
   "execution_count": 63,
   "id": "e9193ed3-2f57-483f-9a9b-b80930b4cce0",
   "metadata": {},
   "outputs": [
    {
     "name": "stdout",
     "output_type": "stream",
     "text": [
      "تعداد سطرها بعد از حذف تکراری‌ها: 3083\n"
     ]
    }
   ],
   "source": [
    "df = df.drop_duplicates()\n",
    "print(f'تعداد سطرها بعد از حذف تکراری‌ها: {len(df)}')\n"
   ]
  },
  {
   "cell_type": "code",
   "execution_count": 64,
   "id": "c4c3a058-8182-4653-a7f8-e645c2e486b4",
   "metadata": {},
   "outputs": [
    {
     "data": {
      "text/plain": [
       "np.float64(5434674343.201752)"
      ]
     },
     "execution_count": 64,
     "metadata": {},
     "output_type": "execute_result"
    }
   ],
   "source": [
    "df['Price'].mean()"
   ]
  },
  {
   "cell_type": "code",
   "execution_count": 65,
   "id": "324a5505-9475-4524-8801-61d81e195e82",
   "metadata": {},
   "outputs": [
    {
     "data": {
      "text/plain": [
       "np.float64(8350902412.682668)"
      ]
     },
     "execution_count": 65,
     "metadata": {},
     "output_type": "execute_result"
    }
   ],
   "source": [
    "df['Price'].std()"
   ]
  },
  {
   "cell_type": "code",
   "execution_count": 66,
   "id": "614e1313-aa67-4083-8f73-28c19ca5e989",
   "metadata": {},
   "outputs": [
    {
     "data": {
      "image/png": "[encoded data removed]",
      "text/plain": [
       "<Figure size 640x480 with 1 Axes>"
      ]
     },
     "metadata": {},
     "output_type": "display_data"
    }
   ],
   "source": [
    "plt.boxplot(df['Price'])\n",
    "plt.show()"
   ]
  },
  {
   "cell_type": "code",
   "execution_count": 67,
   "id": "6462c15e-b949-42d7-9975-2c17db59902d",
   "metadata": {},
   "outputs": [
    {
     "name": "stdout",
     "output_type": "stream",
     "text": [
      "2900000000.0\n"
     ]
    }
   ],
   "source": [
    "print(df['Price'].median())\n"
   ]
  },
  {
   "cell_type": "code",
   "execution_count": 68,
   "id": "afa887b5-d0fc-4021-8826-f6c74293fed9",
   "metadata": {},
   "outputs": [
    {
     "name": "stdout",
     "output_type": "stream",
     "text": [
      "تعداد نمونه‌ها قبل از حذف پرت: 3083\n",
      "تعداد نمونه‌ها بعد از حذف پرت: 2801\n",
      "میانگین جدید قیمت‌ها: 3425900392.7483044\n",
      "میانه جدید قیمت‌ها: 2500000000.0\n"
     ]
    }
   ],
   "source": [
    "\n",
    "Q1 = df['Price'].quantile(0.25)\n",
    "Q3 = df['Price'].quantile(0.75)\n",
    "IQR = Q3 - Q1\n",
    "\n",
    "\n",
    "upper_bound = Q3 + 1.5 * IQR\n",
    "\n",
    "\n",
    "df_clean = df[(df['Price'] >= lower_bound) & (df['Price'] <= upper_bound)].copy()\n",
    "\n",
    "print(f'تعداد نمونه‌ها قبل از حذف پرت: {len(df)}')\n",
    "print(f'تعداد نمونه‌ها بعد از حذف پرت: {len(df_clean)}')\n",
    "print(f'میانگین جدید قیمت‌ها: {df_clean[\"Price\"].mean()}')\n",
    "print(f'میانه جدید قیمت‌ها: {df_clean[\"Price\"].median()}')\n"
   ]
  },
  {
   "cell_type": "code",
   "execution_count": 69,
   "id": "aafda39b-286c-4d10-ab35-4b16d120ca44",
   "metadata": {},
   "outputs": [
    {
     "name": "stdout",
     "output_type": "stream",
     "text": [
      "3425900392.7483044\n"
     ]
    }
   ],
   "source": [
    "print(df_clean['Price'].mean())\n"
   ]
  },
  {
   "cell_type": "code",
   "execution_count": 70,
   "id": "69720b76-2e7d-4405-9445-2fb9e5dc4a5a",
   "metadata": {},
   "outputs": [
    {
     "name": "stdout",
     "output_type": "stream",
     "text": [
      "2865163340.2435746\n"
     ]
    }
   ],
   "source": [
    "print(df_clean['Price'].std())"
   ]
  },
  {
   "cell_type": "code",
   "execution_count": 71,
   "id": "5faf077c-41eb-4ec2-bd38-2e6087426c81",
   "metadata": {},
   "outputs": [
    {
     "name": "stdout",
     "output_type": "stream",
     "text": [
      "2500000000.0\n"
     ]
    }
   ],
   "source": [
    "print(df_clean['Price'].median())"
   ]
  },
  {
   "cell_type": "code",
   "execution_count": 72,
   "id": "8bca1d24-abd6-48f0-abea-f189b2efd586",
   "metadata": {},
   "outputs": [
    {
     "name": "stdout",
     "output_type": "stream",
     "text": [
      "تعداد سطرها بعد از حذف تکراری‌ها: 3083\n",
      "تعداد نمونه‌ها قبل از حذف پرت: 3083\n",
      "تعداد نمونه‌ها بعد از حذف پرت: 2801\n",
      "میانگین جدید قیمت‌ها: 114,196.68\n",
      "میانه جدید قیمت‌ها: 83,333.33\n"
     ]
    }
   ],
   "source": [
    "\n",
    "\n",
    "df = df.drop_duplicates()\n",
    "print(f'تعداد سطرها بعد از حذف تکراری‌ها: {len(df)}')\n",
    "\n",
    "Q1_usd = df['Price(USD)'].quantile(0.25)\n",
    "Q3_usd = df['Price(USD)'].quantile(0.75)\n",
    "IQR_usd = Q3_usd - Q1_usd\n",
    "\n",
    "lower_bound_usd = Q1_usd - 1.5 * IQR_usd\n",
    "upper_bound_usd = Q3_usd + 1.5 * IQR_usd\n",
    "\n",
    "df_clean = df[(df['Price(USD)'] >= lower_bound_usd) & (df['Price(USD)'] <= upper_bound_usd)].copy()\n",
    "\n",
    "print(f'تعداد نمونه‌ها قبل از حذف پرت: {len(df)}')\n",
    "print(f'تعداد نمونه‌ها بعد از حذف پرت: {len(df_clean)}')\n",
    "print(f'میانگین جدید قیمت‌ها: {df_clean[\"Price(USD)\"].mean():,.2f}')\n",
    "print(f'میانه جدید قیمت‌ها: {df_clean[\"Price(USD)\"].median():,.2f}')\n",
    "\n",
    "# حالا آماده برای مدل‌سازی\n",
    "X = df_clean.drop(['Price', 'Price(USD)'], axis=1)\n",
    "y = df_clean['Price(USD)']\n",
    "\n",
    "\n"
   ]
  },
  {
   "cell_type": "code",
   "execution_count": 73,
   "id": "37d85c90-c92a-4ad7-9653-eac90704d4a7",
   "metadata": {},
   "outputs": [],
   "source": [
    "# Train Test \n",
    "\n",
    "\n",
    "from sklearn.model_selection import train_test_split\n",
    "X_train, X_test, y_train, y_test = train_test_split(X, y, test_size=0.4, random_state = 101)"
   ]
  },
  {
   "cell_type": "code",
   "execution_count": 74,
   "id": "c39a5f82-6aea-4619-968b-201b933190c9",
   "metadata": {},
   "outputs": [],
   "source": [
    "# Standardize\n",
    "\n",
    "\n",
    "from sklearn.preprocessing import StandardScaler\n",
    "\n",
    "sc = StandardScaler()\n",
    "X_train_scaled = sc.fit_transform(X_train)\n",
    "X_test_scaled = sc.transform(X_test)\n"
   ]
  },
  {
   "cell_type": "code",
   "execution_count": 75,
   "id": "74c0ed69-ed23-4873-86f9-371b31df648f",
   "metadata": {},
   "outputs": [
    {
     "data": {
      "text/html": [
       "<div>\n",
       "<style scoped>\n",
       "    .dataframe tbody tr th:only-of-type {\n",
       "        vertical-align: middle;\n",
       "    }\n",
       "\n",
       "    .dataframe tbody tr th {\n",
       "        vertical-align: top;\n",
       "    }\n",
       "\n",
       "    .dataframe thead th {\n",
       "        text-align: right;\n",
       "    }\n",
       "</style>\n",
       "<table border=\"1\" class=\"dataframe\">\n",
       "  <thead>\n",
       "    <tr style=\"text-align: right;\">\n",
       "      <th></th>\n",
       "      <th>Area</th>\n",
       "      <th>Room</th>\n",
       "      <th>Parking</th>\n",
       "      <th>Warehouse</th>\n",
       "      <th>Elevator</th>\n",
       "      <th>Region_Low</th>\n",
       "      <th>Region_Mid</th>\n",
       "    </tr>\n",
       "  </thead>\n",
       "  <tbody>\n",
       "    <tr>\n",
       "      <th>0</th>\n",
       "      <td>0.748553</td>\n",
       "      <td>0.057965</td>\n",
       "      <td>0.456764</td>\n",
       "      <td>0.33663</td>\n",
       "      <td>0.542493</td>\n",
       "      <td>-0.536056</td>\n",
       "      <td>0.962604</td>\n",
       "    </tr>\n",
       "    <tr>\n",
       "      <th>1</th>\n",
       "      <td>0.708930</td>\n",
       "      <td>1.556142</td>\n",
       "      <td>0.456764</td>\n",
       "      <td>0.33663</td>\n",
       "      <td>0.542493</td>\n",
       "      <td>-0.536056</td>\n",
       "      <td>-1.038849</td>\n",
       "    </tr>\n",
       "    <tr>\n",
       "      <th>2</th>\n",
       "      <td>-0.321263</td>\n",
       "      <td>0.057965</td>\n",
       "      <td>0.456764</td>\n",
       "      <td>0.33663</td>\n",
       "      <td>0.542493</td>\n",
       "      <td>-0.536056</td>\n",
       "      <td>0.962604</td>\n",
       "    </tr>\n",
       "    <tr>\n",
       "      <th>3</th>\n",
       "      <td>-0.123149</td>\n",
       "      <td>0.057965</td>\n",
       "      <td>0.456764</td>\n",
       "      <td>0.33663</td>\n",
       "      <td>0.542493</td>\n",
       "      <td>-0.536056</td>\n",
       "      <td>0.962604</td>\n",
       "    </tr>\n",
       "    <tr>\n",
       "      <th>4</th>\n",
       "      <td>0.292891</td>\n",
       "      <td>0.057965</td>\n",
       "      <td>0.456764</td>\n",
       "      <td>0.33663</td>\n",
       "      <td>0.542493</td>\n",
       "      <td>-0.536056</td>\n",
       "      <td>-1.038849</td>\n",
       "    </tr>\n",
       "    <tr>\n",
       "      <th>...</th>\n",
       "      <td>...</td>\n",
       "      <td>...</td>\n",
       "      <td>...</td>\n",
       "      <td>...</td>\n",
       "      <td>...</td>\n",
       "      <td>...</td>\n",
       "      <td>...</td>\n",
       "    </tr>\n",
       "    <tr>\n",
       "      <th>1675</th>\n",
       "      <td>1.006102</td>\n",
       "      <td>1.556142</td>\n",
       "      <td>0.456764</td>\n",
       "      <td>0.33663</td>\n",
       "      <td>0.542493</td>\n",
       "      <td>-0.536056</td>\n",
       "      <td>-1.038849</td>\n",
       "    </tr>\n",
       "    <tr>\n",
       "      <th>1676</th>\n",
       "      <td>-0.638246</td>\n",
       "      <td>0.057965</td>\n",
       "      <td>0.456764</td>\n",
       "      <td>0.33663</td>\n",
       "      <td>0.542493</td>\n",
       "      <td>1.865476</td>\n",
       "      <td>-1.038849</td>\n",
       "    </tr>\n",
       "    <tr>\n",
       "      <th>1677</th>\n",
       "      <td>-0.578812</td>\n",
       "      <td>0.057965</td>\n",
       "      <td>0.456764</td>\n",
       "      <td>0.33663</td>\n",
       "      <td>0.542493</td>\n",
       "      <td>-0.536056</td>\n",
       "      <td>0.962604</td>\n",
       "    </tr>\n",
       "    <tr>\n",
       "      <th>1678</th>\n",
       "      <td>-0.875983</td>\n",
       "      <td>0.057965</td>\n",
       "      <td>0.456764</td>\n",
       "      <td>0.33663</td>\n",
       "      <td>-1.843341</td>\n",
       "      <td>-0.536056</td>\n",
       "      <td>0.962604</td>\n",
       "    </tr>\n",
       "    <tr>\n",
       "      <th>1679</th>\n",
       "      <td>0.807987</td>\n",
       "      <td>1.556142</td>\n",
       "      <td>0.456764</td>\n",
       "      <td>0.33663</td>\n",
       "      <td>0.542493</td>\n",
       "      <td>-0.536056</td>\n",
       "      <td>-1.038849</td>\n",
       "    </tr>\n",
       "  </tbody>\n",
       "</table>\n",
       "<p>1680 rows × 7 columns</p>\n",
       "</div>"
      ],
      "text/plain": [
       "          Area      Room   Parking  Warehouse  Elevator  Region_Low  \\\n",
       "0     0.748553  0.057965  0.456764    0.33663  0.542493   -0.536056   \n",
       "1     0.708930  1.556142  0.456764    0.33663  0.542493   -0.536056   \n",
       "2    -0.321263  0.057965  0.456764    0.33663  0.542493   -0.536056   \n",
       "3    -0.123149  0.057965  0.456764    0.33663  0.542493   -0.536056   \n",
       "4     0.292891  0.057965  0.456764    0.33663  0.542493   -0.536056   \n",
       "...        ...       ...       ...        ...       ...         ...   \n",
       "1675  1.006102  1.556142  0.456764    0.33663  0.542493   -0.536056   \n",
       "1676 -0.638246  0.057965  0.456764    0.33663  0.542493    1.865476   \n",
       "1677 -0.578812  0.057965  0.456764    0.33663  0.542493   -0.536056   \n",
       "1678 -0.875983  0.057965  0.456764    0.33663 -1.843341   -0.536056   \n",
       "1679  0.807987  1.556142  0.456764    0.33663  0.542493   -0.536056   \n",
       "\n",
       "      Region_Mid  \n",
       "0       0.962604  \n",
       "1      -1.038849  \n",
       "2       0.962604  \n",
       "3       0.962604  \n",
       "4      -1.038849  \n",
       "...          ...  \n",
       "1675   -1.038849  \n",
       "1676   -1.038849  \n",
       "1677    0.962604  \n",
       "1678    0.962604  \n",
       "1679   -1.038849  \n",
       "\n",
       "[1680 rows x 7 columns]"
      ]
     },
     "execution_count": 75,
     "metadata": {},
     "output_type": "execute_result"
    }
   ],
   "source": [
    "col=X.columns\n",
    "X_train_scaled = pd.DataFrame(X_train_scaled, columns=col)\n",
    "X_train_scaled\n",
    "\n",
    "\n"
   ]
  },
  {
   "cell_type": "code",
   "execution_count": 76,
   "id": "93953376-44b4-47b3-bae1-27952a0abe81",
   "metadata": {},
   "outputs": [
    {
     "data": {
      "text/html": [
       "<div>\n",
       "<style scoped>\n",
       "    .dataframe tbody tr th:only-of-type {\n",
       "        vertical-align: middle;\n",
       "    }\n",
       "\n",
       "    .dataframe tbody tr th {\n",
       "        vertical-align: top;\n",
       "    }\n",
       "\n",
       "    .dataframe thead th {\n",
       "        text-align: right;\n",
       "    }\n",
       "</style>\n",
       "<table border=\"1\" class=\"dataframe\">\n",
       "  <thead>\n",
       "    <tr style=\"text-align: right;\">\n",
       "      <th></th>\n",
       "      <th>Area</th>\n",
       "      <th>Room</th>\n",
       "      <th>Parking</th>\n",
       "      <th>Warehouse</th>\n",
       "      <th>Elevator</th>\n",
       "      <th>Region_Low</th>\n",
       "      <th>Region_Mid</th>\n",
       "    </tr>\n",
       "  </thead>\n",
       "  <tbody>\n",
       "    <tr>\n",
       "      <th>0</th>\n",
       "      <td>-0.677869</td>\n",
       "      <td>0.057965</td>\n",
       "      <td>0.456764</td>\n",
       "      <td>0.33663</td>\n",
       "      <td>-1.843341</td>\n",
       "      <td>-0.536056</td>\n",
       "      <td>0.962604</td>\n",
       "    </tr>\n",
       "    <tr>\n",
       "      <th>1</th>\n",
       "      <td>0.748553</td>\n",
       "      <td>1.556142</td>\n",
       "      <td>0.456764</td>\n",
       "      <td>0.33663</td>\n",
       "      <td>0.542493</td>\n",
       "      <td>1.865476</td>\n",
       "      <td>-1.038849</td>\n",
       "    </tr>\n",
       "    <tr>\n",
       "      <th>2</th>\n",
       "      <td>-0.103338</td>\n",
       "      <td>0.057965</td>\n",
       "      <td>0.456764</td>\n",
       "      <td>0.33663</td>\n",
       "      <td>0.542493</td>\n",
       "      <td>1.865476</td>\n",
       "      <td>-1.038849</td>\n",
       "    </tr>\n",
       "    <tr>\n",
       "      <th>3</th>\n",
       "      <td>-0.024092</td>\n",
       "      <td>0.057965</td>\n",
       "      <td>-2.189316</td>\n",
       "      <td>0.33663</td>\n",
       "      <td>0.542493</td>\n",
       "      <td>-0.536056</td>\n",
       "      <td>-1.038849</td>\n",
       "    </tr>\n",
       "    <tr>\n",
       "      <th>4</th>\n",
       "      <td>-0.043904</td>\n",
       "      <td>0.057965</td>\n",
       "      <td>0.456764</td>\n",
       "      <td>0.33663</td>\n",
       "      <td>0.542493</td>\n",
       "      <td>-0.536056</td>\n",
       "      <td>0.962604</td>\n",
       "    </tr>\n",
       "    <tr>\n",
       "      <th>...</th>\n",
       "      <td>...</td>\n",
       "      <td>...</td>\n",
       "      <td>...</td>\n",
       "      <td>...</td>\n",
       "      <td>...</td>\n",
       "      <td>...</td>\n",
       "      <td>...</td>\n",
       "    </tr>\n",
       "    <tr>\n",
       "      <th>1116</th>\n",
       "      <td>-0.638246</td>\n",
       "      <td>-1.440212</td>\n",
       "      <td>-2.189316</td>\n",
       "      <td>0.33663</td>\n",
       "      <td>-1.843341</td>\n",
       "      <td>1.865476</td>\n",
       "      <td>-1.038849</td>\n",
       "    </tr>\n",
       "    <tr>\n",
       "      <th>1117</th>\n",
       "      <td>-0.242018</td>\n",
       "      <td>0.057965</td>\n",
       "      <td>0.456764</td>\n",
       "      <td>0.33663</td>\n",
       "      <td>0.542493</td>\n",
       "      <td>-0.536056</td>\n",
       "      <td>0.962604</td>\n",
       "    </tr>\n",
       "    <tr>\n",
       "      <th>1118</th>\n",
       "      <td>-0.123149</td>\n",
       "      <td>0.057965</td>\n",
       "      <td>0.456764</td>\n",
       "      <td>0.33663</td>\n",
       "      <td>0.542493</td>\n",
       "      <td>-0.536056</td>\n",
       "      <td>0.962604</td>\n",
       "    </tr>\n",
       "    <tr>\n",
       "      <th>1119</th>\n",
       "      <td>-0.083526</td>\n",
       "      <td>0.057965</td>\n",
       "      <td>0.456764</td>\n",
       "      <td>0.33663</td>\n",
       "      <td>0.542493</td>\n",
       "      <td>-0.536056</td>\n",
       "      <td>0.962604</td>\n",
       "    </tr>\n",
       "    <tr>\n",
       "      <th>1120</th>\n",
       "      <td>-0.440132</td>\n",
       "      <td>0.057965</td>\n",
       "      <td>0.456764</td>\n",
       "      <td>0.33663</td>\n",
       "      <td>0.542493</td>\n",
       "      <td>-0.536056</td>\n",
       "      <td>0.962604</td>\n",
       "    </tr>\n",
       "  </tbody>\n",
       "</table>\n",
       "<p>1121 rows × 7 columns</p>\n",
       "</div>"
      ],
      "text/plain": [
       "          Area      Room   Parking  Warehouse  Elevator  Region_Low  \\\n",
       "0    -0.677869  0.057965  0.456764    0.33663 -1.843341   -0.536056   \n",
       "1     0.748553  1.556142  0.456764    0.33663  0.542493    1.865476   \n",
       "2    -0.103338  0.057965  0.456764    0.33663  0.542493    1.865476   \n",
       "3    -0.024092  0.057965 -2.189316    0.33663  0.542493   -0.536056   \n",
       "4    -0.043904  0.057965  0.456764    0.33663  0.542493   -0.536056   \n",
       "...        ...       ...       ...        ...       ...         ...   \n",
       "1116 -0.638246 -1.440212 -2.189316    0.33663 -1.843341    1.865476   \n",
       "1117 -0.242018  0.057965  0.456764    0.33663  0.542493   -0.536056   \n",
       "1118 -0.123149  0.057965  0.456764    0.33663  0.542493   -0.536056   \n",
       "1119 -0.083526  0.057965  0.456764    0.33663  0.542493   -0.536056   \n",
       "1120 -0.440132  0.057965  0.456764    0.33663  0.542493   -0.536056   \n",
       "\n",
       "      Region_Mid  \n",
       "0       0.962604  \n",
       "1      -1.038849  \n",
       "2      -1.038849  \n",
       "3      -1.038849  \n",
       "4       0.962604  \n",
       "...          ...  \n",
       "1116   -1.038849  \n",
       "1117    0.962604  \n",
       "1118    0.962604  \n",
       "1119    0.962604  \n",
       "1120    0.962604  \n",
       "\n",
       "[1121 rows x 7 columns]"
      ]
     },
     "execution_count": 76,
     "metadata": {},
     "output_type": "execute_result"
    }
   ],
   "source": [
    "X_test_scaled=sc.transform(X_test)\n",
    "col=X.columns\n",
    "X_test_scaled = pd.DataFrame(X_test_scaled, columns=col)\n",
    "X_test_scaled"
   ]
  },
  {
   "cell_type": "code",
   "execution_count": 77,
   "id": "8ca26023-cd57-40b9-9269-f0d259891fbc",
   "metadata": {},
   "outputs": [],
   "source": [
    "X_train= X_train_scaled\n",
    "X_test= X_test_scaled"
   ]
  },
  {
   "cell_type": "code",
   "execution_count": 78,
   "id": "f0a9e635-1951-43cb-aedb-dfe398488c1c",
   "metadata": {},
   "outputs": [
    {
     "data": {
      "text/html": [
       "<style>#sk-container-id-2 {\n",
       "  /* Definition of color scheme common for light and dark mode */\n",
       "  --sklearn-color-text: black;\n",
       "  --sklearn-color-line: gray;\n",
       "  /* Definition of color scheme for unfitted estimators */\n",
       "  --sklearn-color-unfitted-level-0: #fff5e6;\n",
       "  --sklearn-color-unfitted-level-1: #f6e4d2;\n",
       "  --sklearn-color-unfitted-level-2: #ffe0b3;\n",
       "  --sklearn-color-unfitted-level-3: chocolate;\n",
       "  /* Definition of color scheme for fitted estimators */\n",
       "  --sklearn-color-fitted-level-0: #f0f8ff;\n",
       "  --sklearn-color-fitted-level-1: #d4ebff;\n",
       "  --sklearn-color-fitted-level-2: #b3dbfd;\n",
       "  --sklearn-color-fitted-level-3: cornflowerblue;\n",
       "\n",
       "  /* Specific color for light theme */\n",
       "  --sklearn-color-text-on-default-background: var(--sg-text-color, var(--theme-code-foreground, var(--jp-content-font-color1, black)));\n",
       "  --sklearn-color-background: var(--sg-background-color, var(--theme-background, var(--jp-layout-color0, white)));\n",
       "  --sklearn-color-border-box: var(--sg-text-color, var(--theme-code-foreground, var(--jp-content-font-color1, black)));\n",
       "  --sklearn-color-icon: #696969;\n",
       "\n",
       "  @media (prefers-color-scheme: dark) {\n",
       "    /* Redefinition of color scheme for dark theme */\n",
       "    --sklearn-color-text-on-default-background: var(--sg-text-color, var(--theme-code-foreground, var(--jp-content-font-color1, white)));\n",
       "    --sklearn-color-background: var(--sg-background-color, var(--theme-background, var(--jp-layout-color0, #111)));\n",
       "    --sklearn-color-border-box: var(--sg-text-color, var(--theme-code-foreground, var(--jp-content-font-color1, white)));\n",
       "    --sklearn-color-icon: #878787;\n",
       "  }\n",
       "}\n",
       "\n",
       "#sk-container-id-2 {\n",
       "  color: var(--sklearn-color-text);\n",
       "}\n",
       "\n",
       "#sk-container-id-2 pre {\n",
       "  padding: 0;\n",
       "}\n",
       "\n",
       "#sk-container-id-2 input.sk-hidden--visually {\n",
       "  border: 0;\n",
       "  clip: rect(1px 1px 1px 1px);\n",
       "  clip: rect(1px, 1px, 1px, 1px);\n",
       "  height: 1px;\n",
       "  margin: -1px;\n",
       "  overflow: hidden;\n",
       "  padding: 0;\n",
       "  position: absolute;\n",
       "  width: 1px;\n",
       "}\n",
       "\n",
       "#sk-container-id-2 div.sk-dashed-wrapped {\n",
       "  border: 1px dashed var(--sklearn-color-line);\n",
       "  margin: 0 0.4em 0.5em 0.4em;\n",
       "  box-sizing: border-box;\n",
       "  padding-bottom: 0.4em;\n",
       "  background-color: var(--sklearn-color-background);\n",
       "}\n",
       "\n",
       "#sk-container-id-2 div.sk-container {\n",
       "  /* jupyter's `normalize.less` sets `[hidden] { display: none; }`\n",
       "     but bootstrap.min.css set `[hidden] { display: none !important; }`\n",
       "     so we also need the `!important` here to be able to override the\n",
       "     default hidden behavior on the sphinx rendered scikit-learn.org.\n",
       "     See: https://github.com/scikit-learn/scikit-learn/issues/21755 */\n",
       "  display: inline-block !important;\n",
       "  position: relative;\n",
       "}\n",
       "\n",
       "#sk-container-id-2 div.sk-text-repr-fallback {\n",
       "  display: none;\n",
       "}\n",
       "\n",
       "div.sk-parallel-item,\n",
       "div.sk-serial,\n",
       "div.sk-item {\n",
       "  /* draw centered vertical line to link estimators */\n",
       "  background-image: linear-gradient(var(--sklearn-color-text-on-default-background), var(--sklearn-color-text-on-default-background));\n",
       "  background-size: 2px 100%;\n",
       "  background-repeat: no-repeat;\n",
       "  background-position: center center;\n",
       "}\n",
       "\n",
       "/* Parallel-specific style estimator block */\n",
       "\n",
       "#sk-container-id-2 div.sk-parallel-item::after {\n",
       "  content: \"\";\n",
       "  width: 100%;\n",
       "  border-bottom: 2px solid var(--sklearn-color-text-on-default-background);\n",
       "  flex-grow: 1;\n",
       "}\n",
       "\n",
       "#sk-container-id-2 div.sk-parallel {\n",
       "  display: flex;\n",
       "  align-items: stretch;\n",
       "  justify-content: center;\n",
       "  background-color: var(--sklearn-color-background);\n",
       "  position: relative;\n",
       "}\n",
       "\n",
       "#sk-container-id-2 div.sk-parallel-item {\n",
       "  display: flex;\n",
       "  flex-direction: column;\n",
       "}\n",
       "\n",
       "#sk-container-id-2 div.sk-parallel-item:first-child::after {\n",
       "  align-self: flex-end;\n",
       "  width: 50%;\n",
       "}\n",
       "\n",
       "#sk-container-id-2 div.sk-parallel-item:last-child::after {\n",
       "  align-self: flex-start;\n",
       "  width: 50%;\n",
       "}\n",
       "\n",
       "#sk-container-id-2 div.sk-parallel-item:only-child::after {\n",
       "  width: 0;\n",
       "}\n",
       "\n",
       "/* Serial-specific style estimator block */\n",
       "\n",
       "#sk-container-id-2 div.sk-serial {\n",
       "  display: flex;\n",
       "  flex-direction: column;\n",
       "  align-items: center;\n",
       "  background-color: var(--sklearn-color-background);\n",
       "  padding-right: 1em;\n",
       "  padding-left: 1em;\n",
       "}\n",
       "\n",
       "\n",
       "/* Toggleable style: style used for estimator/Pipeline/ColumnTransformer box that is\n",
       "clickable and can be expanded/collapsed.\n",
       "- Pipeline and ColumnTransformer use this feature and define the default style\n",
       "- Estimators will overwrite some part of the style using the `sk-estimator` class\n",
       "*/\n",
       "\n",
       "/* Pipeline and ColumnTransformer style (default) */\n",
       "\n",
       "#sk-container-id-2 div.sk-toggleable {\n",
       "  /* Default theme specific background. It is overwritten whether we have a\n",
       "  specific estimator or a Pipeline/ColumnTransformer */\n",
       "  background-color: var(--sklearn-color-background);\n",
       "}\n",
       "\n",
       "/* Toggleable label */\n",
       "#sk-container-id-2 label.sk-toggleable__label {\n",
       "  cursor: pointer;\n",
       "  display: block;\n",
       "  width: 100%;\n",
       "  margin-bottom: 0;\n",
       "  padding: 0.5em;\n",
       "  box-sizing: border-box;\n",
       "  text-align: center;\n",
       "}\n",
       "\n",
       "#sk-container-id-2 label.sk-toggleable__label-arrow:before {\n",
       "  /* Arrow on the left of the label */\n",
       "  content: \"▸\";\n",
       "  float: left;\n",
       "  margin-right: 0.25em;\n",
       "  color: var(--sklearn-color-icon);\n",
       "}\n",
       "\n",
       "#sk-container-id-2 label.sk-toggleable__label-arrow:hover:before {\n",
       "  color: var(--sklearn-color-text);\n",
       "}\n",
       "\n",
       "/* Toggleable content - dropdown */\n",
       "\n",
       "#sk-container-id-2 div.sk-toggleable__content {\n",
       "  max-height: 0;\n",
       "  max-width: 0;\n",
       "  overflow: hidden;\n",
       "  text-align: left;\n",
       "  /* unfitted */\n",
       "  background-color: var(--sklearn-color-unfitted-level-0);\n",
       "}\n",
       "\n",
       "#sk-container-id-2 div.sk-toggleable__content.fitted {\n",
       "  /* fitted */\n",
       "  background-color: var(--sklearn-color-fitted-level-0);\n",
       "}\n",
       "\n",
       "#sk-container-id-2 div.sk-toggleable__content pre {\n",
       "  margin: 0.2em;\n",
       "  border-radius: 0.25em;\n",
       "  color: var(--sklearn-color-text);\n",
       "  /* unfitted */\n",
       "  background-color: var(--sklearn-color-unfitted-level-0);\n",
       "}\n",
       "\n",
       "#sk-container-id-2 div.sk-toggleable__content.fitted pre {\n",
       "  /* unfitted */\n",
       "  background-color: var(--sklearn-color-fitted-level-0);\n",
       "}\n",
       "\n",
       "#sk-container-id-2 input.sk-toggleable__control:checked~div.sk-toggleable__content {\n",
       "  /* Expand drop-down */\n",
       "  max-height: 200px;\n",
       "  max-width: 100%;\n",
       "  overflow: auto;\n",
       "}\n",
       "\n",
       "#sk-container-id-2 input.sk-toggleable__control:checked~label.sk-toggleable__label-arrow:before {\n",
       "  content: \"▾\";\n",
       "}\n",
       "\n",
       "/* Pipeline/ColumnTransformer-specific style */\n",
       "\n",
       "#sk-container-id-2 div.sk-label input.sk-toggleable__control:checked~label.sk-toggleable__label {\n",
       "  color: var(--sklearn-color-text);\n",
       "  background-color: var(--sklearn-color-unfitted-level-2);\n",
       "}\n",
       "\n",
       "#sk-container-id-2 div.sk-label.fitted input.sk-toggleable__control:checked~label.sk-toggleable__label {\n",
       "  background-color: var(--sklearn-color-fitted-level-2);\n",
       "}\n",
       "\n",
       "/* Estimator-specific style */\n",
       "\n",
       "/* Colorize estimator box */\n",
       "#sk-container-id-2 div.sk-estimator input.sk-toggleable__control:checked~label.sk-toggleable__label {\n",
       "  /* unfitted */\n",
       "  background-color: var(--sklearn-color-unfitted-level-2);\n",
       "}\n",
       "\n",
       "#sk-container-id-2 div.sk-estimator.fitted input.sk-toggleable__control:checked~label.sk-toggleable__label {\n",
       "  /* fitted */\n",
       "  background-color: var(--sklearn-color-fitted-level-2);\n",
       "}\n",
       "\n",
       "#sk-container-id-2 div.sk-label label.sk-toggleable__label,\n",
       "#sk-container-id-2 div.sk-label label {\n",
       "  /* The background is the default theme color */\n",
       "  color: var(--sklearn-color-text-on-default-background);\n",
       "}\n",
       "\n",
       "/* On hover, darken the color of the background */\n",
       "#sk-container-id-2 div.sk-label:hover label.sk-toggleable__label {\n",
       "  color: var(--sklearn-color-text);\n",
       "  background-color: var(--sklearn-color-unfitted-level-2);\n",
       "}\n",
       "\n",
       "/* Label box, darken color on hover, fitted */\n",
       "#sk-container-id-2 div.sk-label.fitted:hover label.sk-toggleable__label.fitted {\n",
       "  color: var(--sklearn-color-text);\n",
       "  background-color: var(--sklearn-color-fitted-level-2);\n",
       "}\n",
       "\n",
       "/* Estimator label */\n",
       "\n",
       "#sk-container-id-2 div.sk-label label {\n",
       "  font-family: monospace;\n",
       "  font-weight: bold;\n",
       "  display: inline-block;\n",
       "  line-height: 1.2em;\n",
       "}\n",
       "\n",
       "#sk-container-id-2 div.sk-label-container {\n",
       "  text-align: center;\n",
       "}\n",
       "\n",
       "/* Estimator-specific */\n",
       "#sk-container-id-2 div.sk-estimator {\n",
       "  font-family: monospace;\n",
       "  border: 1px dotted var(--sklearn-color-border-box);\n",
       "  border-radius: 0.25em;\n",
       "  box-sizing: border-box;\n",
       "  margin-bottom: 0.5em;\n",
       "  /* unfitted */\n",
       "  background-color: var(--sklearn-color-unfitted-level-0);\n",
       "}\n",
       "\n",
       "#sk-container-id-2 div.sk-estimator.fitted {\n",
       "  /* fitted */\n",
       "  background-color: var(--sklearn-color-fitted-level-0);\n",
       "}\n",
       "\n",
       "/* on hover */\n",
       "#sk-container-id-2 div.sk-estimator:hover {\n",
       "  /* unfitted */\n",
       "  background-color: var(--sklearn-color-unfitted-level-2);\n",
       "}\n",
       "\n",
       "#sk-container-id-2 div.sk-estimator.fitted:hover {\n",
       "  /* fitted */\n",
       "  background-color: var(--sklearn-color-fitted-level-2);\n",
       "}\n",
       "\n",
       "/* Specification for estimator info (e.g. \"i\" and \"?\") */\n",
       "\n",
       "/* Common style for \"i\" and \"?\" */\n",
       "\n",
       ".sk-estimator-doc-link,\n",
       "a:link.sk-estimator-doc-link,\n",
       "a:visited.sk-estimator-doc-link {\n",
       "  float: right;\n",
       "  font-size: smaller;\n",
       "  line-height: 1em;\n",
       "  font-family: monospace;\n",
       "  background-color: var(--sklearn-color-background);\n",
       "  border-radius: 1em;\n",
       "  height: 1em;\n",
       "  width: 1em;\n",
       "  text-decoration: none !important;\n",
       "  margin-left: 1ex;\n",
       "  /* unfitted */\n",
       "  border: var(--sklearn-color-unfitted-level-1) 1pt solid;\n",
       "  color: var(--sklearn-color-unfitted-level-1);\n",
       "}\n",
       "\n",
       ".sk-estimator-doc-link.fitted,\n",
       "a:link.sk-estimator-doc-link.fitted,\n",
       "a:visited.sk-estimator-doc-link.fitted {\n",
       "  /* fitted */\n",
       "  border: var(--sklearn-color-fitted-level-1) 1pt solid;\n",
       "  color: var(--sklearn-color-fitted-level-1);\n",
       "}\n",
       "\n",
       "/* On hover */\n",
       "div.sk-estimator:hover .sk-estimator-doc-link:hover,\n",
       ".sk-estimator-doc-link:hover,\n",
       "div.sk-label-container:hover .sk-estimator-doc-link:hover,\n",
       ".sk-estimator-doc-link:hover {\n",
       "  /* unfitted */\n",
       "  background-color: var(--sklearn-color-unfitted-level-3);\n",
       "  color: var(--sklearn-color-background);\n",
       "  text-decoration: none;\n",
       "}\n",
       "\n",
       "div.sk-estimator.fitted:hover .sk-estimator-doc-link.fitted:hover,\n",
       ".sk-estimator-doc-link.fitted:hover,\n",
       "div.sk-label-container:hover .sk-estimator-doc-link.fitted:hover,\n",
       ".sk-estimator-doc-link.fitted:hover {\n",
       "  /* fitted */\n",
       "  background-color: var(--sklearn-color-fitted-level-3);\n",
       "  color: var(--sklearn-color-background);\n",
       "  text-decoration: none;\n",
       "}\n",
       "\n",
       "/* Span, style for the box shown on hovering the info icon */\n",
       ".sk-estimator-doc-link span {\n",
       "  display: none;\n",
       "  z-index: 9999;\n",
       "  position: relative;\n",
       "  font-weight: normal;\n",
       "  right: .2ex;\n",
       "  padding: .5ex;\n",
       "  margin: .5ex;\n",
       "  width: min-content;\n",
       "  min-width: 20ex;\n",
       "  max-width: 50ex;\n",
       "  color: var(--sklearn-color-text);\n",
       "  box-shadow: 2pt 2pt 4pt #999;\n",
       "  /* unfitted */\n",
       "  background: var(--sklearn-color-unfitted-level-0);\n",
       "  border: .5pt solid var(--sklearn-color-unfitted-level-3);\n",
       "}\n",
       "\n",
       ".sk-estimator-doc-link.fitted span {\n",
       "  /* fitted */\n",
       "  background: var(--sklearn-color-fitted-level-0);\n",
       "  border: var(--sklearn-color-fitted-level-3);\n",
       "}\n",
       "\n",
       ".sk-estimator-doc-link:hover span {\n",
       "  display: block;\n",
       "}\n",
       "\n",
       "/* \"?\"-specific style due to the `<a>` HTML tag */\n",
       "\n",
       "#sk-container-id-2 a.estimator_doc_link {\n",
       "  float: right;\n",
       "  font-size: 1rem;\n",
       "  line-height: 1em;\n",
       "  font-family: monospace;\n",
       "  background-color: var(--sklearn-color-background);\n",
       "  border-radius: 1rem;\n",
       "  height: 1rem;\n",
       "  width: 1rem;\n",
       "  text-decoration: none;\n",
       "  /* unfitted */\n",
       "  color: var(--sklearn-color-unfitted-level-1);\n",
       "  border: var(--sklearn-color-unfitted-level-1) 1pt solid;\n",
       "}\n",
       "\n",
       "#sk-container-id-2 a.estimator_doc_link.fitted {\n",
       "  /* fitted */\n",
       "  border: var(--sklearn-color-fitted-level-1) 1pt solid;\n",
       "  color: var(--sklearn-color-fitted-level-1);\n",
       "}\n",
       "\n",
       "/* On hover */\n",
       "#sk-container-id-2 a.estimator_doc_link:hover {\n",
       "  /* unfitted */\n",
       "  background-color: var(--sklearn-color-unfitted-level-3);\n",
       "  color: var(--sklearn-color-background);\n",
       "  text-decoration: none;\n",
       "}\n",
       "\n",
       "#sk-container-id-2 a.estimator_doc_link.fitted:hover {\n",
       "  /* fitted */\n",
       "  background-color: var(--sklearn-color-fitted-level-3);\n",
       "}\n",
       "</style><div id=\"sk-container-id-2\" class=\"sk-top-container\"><div class=\"sk-text-repr-fallback\"><pre>LinearRegression()</pre><b>In a Jupyter environment, please rerun this cell to show the HTML representation or trust the notebook. <br />On GitHub, the HTML representation is unable to render, please try loading this page with nbviewer.org.</b></div><div class=\"sk-container\" hidden><div class=\"sk-item\"><div class=\"sk-estimator fitted sk-toggleable\"><input class=\"sk-toggleable__control sk-hidden--visually\" id=\"sk-estimator-id-2\" type=\"checkbox\" checked><label for=\"sk-estimator-id-2\" class=\"sk-toggleable__label fitted sk-toggleable__label-arrow fitted\">&nbsp;&nbsp;LinearRegression<a class=\"sk-estimator-doc-link fitted\" rel=\"noreferrer\" target=\"_blank\" href=\"https://scikit-learn.org/1.5/modules/generated/sklearn.linear_model.LinearRegression.html\">?<span>Documentation for LinearRegression</span></a><span class=\"sk-estimator-doc-link fitted\">i<span>Fitted</span></span></label><div class=\"sk-toggleable__content fitted\"><pre>LinearRegression()</pre></div> </div></div></div></div>"
      ],
      "text/plain": [
       "LinearRegression()"
      ]
     },
     "execution_count": 78,
     "metadata": {},
     "output_type": "execute_result"
    }
   ],
   "source": [
    "\n",
    "\n",
    "\n",
    "from sklearn.linear_model import LinearRegression\n",
    "\n",
    "lm = LinearRegression()\n",
    "lm.fit(X_train_scaled, y_train)\n"
   ]
  },
  {
   "cell_type": "code",
   "execution_count": 79,
   "id": "40668ee0-7ca9-42b8-b5d1-9f9ad4533c7d",
   "metadata": {},
   "outputs": [
    {
     "name": "stdout",
     "output_type": "stream",
     "text": [
      "115026.83726785713\n"
     ]
    }
   ],
   "source": [
    "# Find Model Coefficients\n",
    "# print the intercept(b0)\n",
    "print(lm.intercept_)"
   ]
  },
  {
   "cell_type": "code",
   "execution_count": 80,
   "id": "0b07dd69-bce2-4cb5-ae6d-ceb181529aed",
   "metadata": {},
   "outputs": [
    {
     "name": "stdout",
     "output_type": "stream",
     "text": [
      "[ 18276.51557969  17563.08768149   2390.16592277   2433.39606664\n",
      "   7166.30874188 -68687.82059029 -55709.7087656 ]\n"
     ]
    }
   ],
   "source": [
    "# print the coefficients(b1, b2, ...)\n",
    "print(lm.coef_)"
   ]
  },
  {
   "cell_type": "code",
   "execution_count": 81,
   "id": "7ec9bffc-08a5-4b67-acf6-e75706a48f99",
   "metadata": {},
   "outputs": [
    {
     "name": "stdout",
     "output_type": "stream",
     "text": [
      "MAE: 36386.91586712773\n",
      "MSE: 2736830338.246978\n",
      "RMSE: 52314.72391446769\n",
      "R2: 0.6951918211643902\n"
     ]
    }
   ],
   "source": [
    "predictions = lm.predict(X_test_scaled)\n",
    "\n",
    "from sklearn import metrics\n",
    "print('MAE:', metrics.mean_absolute_error(y_test, predictions))\n",
    "print('MSE:', metrics.mean_squared_error(y_test, predictions))\n",
    "print('RMSE:', np.sqrt(metrics.mean_squared_error(y_test, predictions)))\n",
    "print('R2:', metrics.r2_score(y_test, predictions))\n"
   ]
  },
  {
   "cell_type": "code",
   "execution_count": 82,
   "id": "b7d8d25e-8255-47b6-b322-98f790c50982",
   "metadata": {
    "scrolled": true
   },
   "outputs": [
    {
     "data": {
      "text/plain": [
       "<Axes: xlabel='Price(USD)', ylabel='Count'>"
      ]
     },
     "execution_count": 82,
     "metadata": {},
     "output_type": "execute_result"
    },
    {
     "data": {
      "image/png": "[encoded data removed]",
      "text/plain": [
       "<Figure size 640x480 with 1 Axes>"
      ]
     },
     "metadata": {},
     "output_type": "display_data"
    }
   ],
   "source": [
    "\n",
    "residual= y_test-predictions\n",
    "sns.histplot(residual, bins=50, kde=True)"
   ]
  },
  {
   "cell_type": "code",
   "execution_count": 83,
   "id": "19f9ab2a-e5ce-4189-b768-35fbb61e856c",
   "metadata": {},
   "outputs": [
    {
     "name": "stdout",
     "output_type": "stream",
     "text": [
      "MAE: 36386.91586712773\n",
      "MSE: 2736830338.246978\n",
      "RMSE: 52314.72391446769\n",
      "R2: 0.8337816387786374\n"
     ]
    }
   ],
   "source": [
    "from sklearn import metrics\n",
    "print('MAE:', metrics.mean_absolute_error(y_test, predictions))\n",
    "print('MSE:', metrics.mean_squared_error(y_test, predictions))\n",
    "print('RMSE:', np.sqrt(metrics.mean_squared_error(y_test, predictions)))\n",
    "\n",
    "print('R2:', np.sqrt(metrics.r2_score(y_test, predictions)))\n"
   ]
  },
  {
   "cell_type": "code",
   "execution_count": null,
   "id": "4a20bc8e-2f45-40a4-ab52-e58c2cb81061",
   "metadata": {},
   "outputs": [],
   "source": []
  },
  {
   "cell_type": "code",
   "execution_count": null,
   "id": "20e6b5a1-3e3a-4164-9857-42f5289e9621",
   "metadata": {},
   "outputs": [],
   "source": []
  },
  {
   "cell_type": "code",
   "execution_count": null,
   "id": "6e2759b1-827c-463c-b1f7-b10589a005ea",
   "metadata": {},
   "outputs": [],
   "source": []
  },
  {
   "cell_type": "code",
   "execution_count": null,
   "id": "26384fa2-6866-452b-9295-a78d6228dc6c",
   "metadata": {},
   "outputs": [],
   "source": []
  },
  {
   "cell_type": "code",
   "execution_count": null,
   "id": "0575faba-be90-4aa1-8362-dca8f1d082c9",
   "metadata": {},
   "outputs": [],
   "source": []
  },
  {
   "cell_type": "markdown",
   "id": "7ed54ebb-a660-464b-993e-99cc69f0bc19",
   "metadata": {},
   "source": [
    "تبدیل لگاریتمی روی قیمت "
   ]
  },
  {
   "cell_type": "code",
   "execution_count": 85,
   "id": "35720240-c9a4-4bdc-b18f-491f566a8dd0",
   "metadata": {},
   "outputs": [
    {
     "name": "stdout",
     "output_type": "stream",
     "text": [
      "MAE: 35,419.75\n",
      "RMSE: 72,085.84\n",
      "R2: 0.421\n"
     ]
    }
   ],
   "source": [
    "import numpy as np\n",
    "from sklearn.linear_model import LinearRegression\n",
    "from sklearn.metrics import mean_absolute_error, mean_squared_error, r2_score\n",
    "\n",
    "y_train_log = np.log1p(y_train)  # log(1 + y)\n",
    "y_test_log = np.log1p(y_test)\n",
    "\n",
    "\n",
    "lm = LinearRegression()\n",
    "lm.fit(X_train_scaled, y_train_log)\n",
    "\n",
    "\n",
    "y_pred_log = lm.predict(X_test_scaled)\n",
    "\n",
    "\n",
    "y_pred = np.expm1(y_pred_log)\n",
    "\n",
    "\n",
    "mae = mean_absolute_error(y_test, y_pred)\n",
    "rmse = np.sqrt(mean_squared_error(y_test, y_pred))\n",
    "r2 = r2_score(y_test, y_pred)\n",
    "\n",
    "print(f\"MAE: {mae:,.2f}\")\n",
    "print(f\"RMSE: {rmse:,.2f}\")\n",
    "print(f\"R2: {r2:.3f}\")\n"
   ]
  },
  {
   "cell_type": "code",
   "execution_count": null,
   "id": "3e773280-7e5c-4160-a860-5c9f8fbee7d9",
   "metadata": {},
   "outputs": [],
   "source": []
  },
  {
   "cell_type": "code",
   "execution_count": null,
   "id": "8cbe03e3-6777-4be2-8795-d7a1ab1037c6",
   "metadata": {},
   "outputs": [],
   "source": []
  }
 ],
 "metadata": {
  "kernelspec": {
   "display_name": "Python 3 (ipykernel)",
   "language": "python",
   "name": "python3"
  },
  "language_info": {
   "codemirror_mode": {
    "name": "ipython",
    "version": 3
   },
   "file_extension": ".py",
   "mimetype": "text/x-python",
   "name": "python",
   "nbconvert_exporter": "python",
   "pygments_lexer": "ipython3",
   "version": "3.12.5"
  }
 },
 "nbformat": 4,
 "nbformat_minor": 5
}
