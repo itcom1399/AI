{
 "cells": [
  {
   "cell_type": "code",
   "execution_count": 5,
   "id": "c09ccf79-2c34-49c5-9061-a18d86e2cdb9",
   "metadata": {},
   "outputs": [],
   "source": [
    "import pandas as pd\n",
    "import numpy as np\n",
    "import matplotlib.pyplot as plt\n",
    "import seaborn as sns\n",
    "%matplotlib inline"
   ]
  },
  {
   "cell_type": "code",
   "execution_count": 7,
   "id": "36e80c6c-592b-481e-9a67-66fa9adb9445",
   "metadata": {},
   "outputs": [
    {
     "data": {
      "text/html": [
       "<div>\n",
       "<style scoped>\n",
       "    .dataframe tbody tr th:only-of-type {\n",
       "        vertical-align: middle;\n",
       "    }\n",
       "\n",
       "    .dataframe tbody tr th {\n",
       "        vertical-align: top;\n",
       "    }\n",
       "\n",
       "    .dataframe thead th {\n",
       "        text-align: right;\n",
       "    }\n",
       "</style>\n",
       "<table border=\"1\" class=\"dataframe\">\n",
       "  <thead>\n",
       "    <tr style=\"text-align: right;\">\n",
       "      <th></th>\n",
       "      <th>Area</th>\n",
       "      <th>Room</th>\n",
       "      <th>Parking</th>\n",
       "      <th>Warehouse</th>\n",
       "      <th>Elevator</th>\n",
       "      <th>Address</th>\n",
       "      <th>Price</th>\n",
       "      <th>Price(USD)</th>\n",
       "    </tr>\n",
       "  </thead>\n",
       "  <tbody>\n",
       "    <tr>\n",
       "      <th>0</th>\n",
       "      <td>63</td>\n",
       "      <td>1</td>\n",
       "      <td>True</td>\n",
       "      <td>True</td>\n",
       "      <td>True</td>\n",
       "      <td>Shahran</td>\n",
       "      <td>1.850000e+09</td>\n",
       "      <td>61666.67</td>\n",
       "    </tr>\n",
       "    <tr>\n",
       "      <th>1</th>\n",
       "      <td>60</td>\n",
       "      <td>1</td>\n",
       "      <td>True</td>\n",
       "      <td>True</td>\n",
       "      <td>True</td>\n",
       "      <td>Shahran</td>\n",
       "      <td>1.850000e+09</td>\n",
       "      <td>61666.67</td>\n",
       "    </tr>\n",
       "    <tr>\n",
       "      <th>2</th>\n",
       "      <td>79</td>\n",
       "      <td>2</td>\n",
       "      <td>True</td>\n",
       "      <td>True</td>\n",
       "      <td>True</td>\n",
       "      <td>Pardis</td>\n",
       "      <td>5.500000e+08</td>\n",
       "      <td>18333.33</td>\n",
       "    </tr>\n",
       "    <tr>\n",
       "      <th>3</th>\n",
       "      <td>95</td>\n",
       "      <td>2</td>\n",
       "      <td>True</td>\n",
       "      <td>True</td>\n",
       "      <td>True</td>\n",
       "      <td>Shahrake Qods</td>\n",
       "      <td>9.025000e+08</td>\n",
       "      <td>30083.33</td>\n",
       "    </tr>\n",
       "    <tr>\n",
       "      <th>4</th>\n",
       "      <td>123</td>\n",
       "      <td>2</td>\n",
       "      <td>True</td>\n",
       "      <td>True</td>\n",
       "      <td>True</td>\n",
       "      <td>Shahrake Gharb</td>\n",
       "      <td>7.000000e+09</td>\n",
       "      <td>233333.33</td>\n",
       "    </tr>\n",
       "  </tbody>\n",
       "</table>\n",
       "</div>"
      ],
      "text/plain": [
       "  Area  Room  Parking  Warehouse  Elevator         Address         Price  \\\n",
       "0   63     1     True       True      True         Shahran  1.850000e+09   \n",
       "1   60     1     True       True      True         Shahran  1.850000e+09   \n",
       "2   79     2     True       True      True          Pardis  5.500000e+08   \n",
       "3   95     2     True       True      True   Shahrake Qods  9.025000e+08   \n",
       "4  123     2     True       True      True  Shahrake Gharb  7.000000e+09   \n",
       "\n",
       "   Price(USD)  \n",
       "0    61666.67  \n",
       "1    61666.67  \n",
       "2    18333.33  \n",
       "3    30083.33  \n",
       "4   233333.33  "
      ]
     },
     "execution_count": 7,
     "metadata": {},
     "output_type": "execute_result"
    }
   ],
   "source": [
    "df = pd.read_csv('housePrice.csv')\n",
    "df.head()"
   ]
  },
  {
   "cell_type": "code",
   "execution_count": 9,
   "id": "c39aa60c-cd97-4911-99e5-475397571d7a",
   "metadata": {},
   "outputs": [
    {
     "name": "stdout",
     "output_type": "stream",
     "text": [
      "<class 'pandas.core.frame.DataFrame'>\n",
      "RangeIndex: 3479 entries, 0 to 3478\n",
      "Data columns (total 8 columns):\n",
      " #   Column      Non-Null Count  Dtype  \n",
      "---  ------      --------------  -----  \n",
      " 0   Area        3479 non-null   object \n",
      " 1   Room        3479 non-null   int64  \n",
      " 2   Parking     3479 non-null   bool   \n",
      " 3   Warehouse   3479 non-null   bool   \n",
      " 4   Elevator    3479 non-null   bool   \n",
      " 5   Address     3456 non-null   object \n",
      " 6   Price       3479 non-null   float64\n",
      " 7   Price(USD)  3479 non-null   float64\n",
      "dtypes: bool(3), float64(2), int64(1), object(2)\n",
      "memory usage: 146.2+ KB\n"
     ]
    }
   ],
   "source": [
    "df.info()"
   ]
  },
  {
   "cell_type": "code",
   "execution_count": 11,
   "id": "9f2e0082-a1f4-4aae-9cfe-13876222f6e9",
   "metadata": {},
   "outputs": [
    {
     "data": {
      "text/html": [
       "<div>\n",
       "<style scoped>\n",
       "    .dataframe tbody tr th:only-of-type {\n",
       "        vertical-align: middle;\n",
       "    }\n",
       "\n",
       "    .dataframe tbody tr th {\n",
       "        vertical-align: top;\n",
       "    }\n",
       "\n",
       "    .dataframe thead th {\n",
       "        text-align: right;\n",
       "    }\n",
       "</style>\n",
       "<table border=\"1\" class=\"dataframe\">\n",
       "  <thead>\n",
       "    <tr style=\"text-align: right;\">\n",
       "      <th></th>\n",
       "      <th>Room</th>\n",
       "      <th>Price</th>\n",
       "      <th>Price(USD)</th>\n",
       "    </tr>\n",
       "  </thead>\n",
       "  <tbody>\n",
       "    <tr>\n",
       "      <th>count</th>\n",
       "      <td>3479.000000</td>\n",
       "      <td>3.479000e+03</td>\n",
       "      <td>3.479000e+03</td>\n",
       "    </tr>\n",
       "    <tr>\n",
       "      <th>mean</th>\n",
       "      <td>2.079908</td>\n",
       "      <td>5.359023e+09</td>\n",
       "      <td>1.786341e+05</td>\n",
       "    </tr>\n",
       "    <tr>\n",
       "      <th>std</th>\n",
       "      <td>0.758275</td>\n",
       "      <td>8.099935e+09</td>\n",
       "      <td>2.699978e+05</td>\n",
       "    </tr>\n",
       "    <tr>\n",
       "      <th>min</th>\n",
       "      <td>0.000000</td>\n",
       "      <td>3.600000e+06</td>\n",
       "      <td>1.200000e+02</td>\n",
       "    </tr>\n",
       "    <tr>\n",
       "      <th>25%</th>\n",
       "      <td>2.000000</td>\n",
       "      <td>1.418250e+09</td>\n",
       "      <td>4.727500e+04</td>\n",
       "    </tr>\n",
       "    <tr>\n",
       "      <th>50%</th>\n",
       "      <td>2.000000</td>\n",
       "      <td>2.900000e+09</td>\n",
       "      <td>9.666667e+04</td>\n",
       "    </tr>\n",
       "    <tr>\n",
       "      <th>75%</th>\n",
       "      <td>2.000000</td>\n",
       "      <td>6.000000e+09</td>\n",
       "      <td>2.000000e+05</td>\n",
       "    </tr>\n",
       "    <tr>\n",
       "      <th>max</th>\n",
       "      <td>5.000000</td>\n",
       "      <td>9.240000e+10</td>\n",
       "      <td>3.080000e+06</td>\n",
       "    </tr>\n",
       "  </tbody>\n",
       "</table>\n",
       "</div>"
      ],
      "text/plain": [
       "              Room         Price    Price(USD)\n",
       "count  3479.000000  3.479000e+03  3.479000e+03\n",
       "mean      2.079908  5.359023e+09  1.786341e+05\n",
       "std       0.758275  8.099935e+09  2.699978e+05\n",
       "min       0.000000  3.600000e+06  1.200000e+02\n",
       "25%       2.000000  1.418250e+09  4.727500e+04\n",
       "50%       2.000000  2.900000e+09  9.666667e+04\n",
       "75%       2.000000  6.000000e+09  2.000000e+05\n",
       "max       5.000000  9.240000e+10  3.080000e+06"
      ]
     },
     "execution_count": 11,
     "metadata": {},
     "output_type": "execute_result"
    }
   ],
   "source": [
    "df.describe()"
   ]
  },
  {
   "cell_type": "code",
   "execution_count": 13,
   "id": "9b127f3d-5746-489a-8ca3-1b55887f59a0",
   "metadata": {},
   "outputs": [
    {
     "name": "stdout",
     "output_type": "stream",
     "text": [
      "<class 'pandas.core.frame.DataFrame'>\n",
      "Index: 3450 entries, 0 to 3478\n",
      "Data columns (total 8 columns):\n",
      " #   Column      Non-Null Count  Dtype  \n",
      "---  ------      --------------  -----  \n",
      " 0   Area        3450 non-null   float64\n",
      " 1   Room        3450 non-null   int64  \n",
      " 2   Parking     3450 non-null   bool   \n",
      " 3   Warehouse   3450 non-null   bool   \n",
      " 4   Elevator    3450 non-null   bool   \n",
      " 5   Address     3450 non-null   object \n",
      " 6   Price       3450 non-null   float64\n",
      " 7   Price(USD)  3450 non-null   float64\n",
      "dtypes: bool(3), float64(3), int64(1), object(1)\n",
      "memory usage: 171.8+ KB\n",
      "None\n",
      "    Area  Room  Parking  Warehouse  Elevator         Address         Price  \\\n",
      "0   63.0     1     True       True      True         Shahran  1.850000e+09   \n",
      "1   60.0     1     True       True      True         Shahran  1.850000e+09   \n",
      "2   79.0     2     True       True      True          Pardis  5.500000e+08   \n",
      "3   95.0     2     True       True      True   Shahrake Qods  9.025000e+08   \n",
      "4  123.0     2     True       True      True  Shahrake Gharb  7.000000e+09   \n",
      "\n",
      "   Price(USD)  \n",
      "0    61666.67  \n",
      "1    61666.67  \n",
      "2    18333.33  \n",
      "3    30083.33  \n",
      "4   233333.33  \n"
     ]
    }
   ],
   "source": [
    "\n",
    "\n",
    "# حذف سطرهایی که مقدار Address گمشده دارند\n",
    "df = df.dropna(subset=['Address'])\n",
    "\n",
    "# تبدیل ستون Area به عدد (float)\n",
    "def clean_area(x):\n",
    "    try:\n",
    "        return float(x)\n",
    "    except:\n",
    "        return np.nan\n",
    "\n",
    "df['Area'] = df['Area'].apply(clean_area)\n",
    "\n",
    "# حذف سطرهایی که Area مقدار NaN دارند یا خیلی بزرگ هستند\n",
    "df = df.dropna(subset=['Area'])\n",
    "df = df[df['Area'] < 10000]  # این عدد می‌تواند بر اساس دامنه منطقی تغییر کند\n",
    "\n",
    "# نمایش اطلاعات پس از پیش‌پردازش\n",
    "print(df.info())\n",
    "print(df.head())"
   ]
  },
  {
   "cell_type": "code",
   "execution_count": 15,
   "id": "36b93121-373f-4e88-b903-3fe91cb769ca",
   "metadata": {},
   "outputs": [
    {
     "name": "stdout",
     "output_type": "stream",
     "text": [
      "    Area  Room  Parking  Warehouse  Elevator         Price  Price(USD)  \\\n",
      "0   63.0     1     True       True      True  1.850000e+09    61666.67   \n",
      "1   60.0     1     True       True      True  1.850000e+09    61666.67   \n",
      "2   79.0     2     True       True      True  5.500000e+08    18333.33   \n",
      "3   95.0     2     True       True      True  9.025000e+08    30083.33   \n",
      "4  123.0     2     True       True      True  7.000000e+09   233333.33   \n",
      "\n",
      "   Address_Abbasabad  Address_Absard  Address_Abuzar  ...  Address_Waterfall  \\\n",
      "0              False           False           False  ...              False   \n",
      "1              False           False           False  ...              False   \n",
      "2              False           False           False  ...              False   \n",
      "3              False           False           False  ...              False   \n",
      "4              False           False           False  ...              False   \n",
      "\n",
      "   Address_West Ferdows Boulevard  Address_West Pars  Address_Yaftabad  \\\n",
      "0                           False              False             False   \n",
      "1                           False              False             False   \n",
      "2                           False              False             False   \n",
      "3                           False              False             False   \n",
      "4                           False              False             False   \n",
      "\n",
      "   Address_Yakhchiabad  Address_Yousef Abad  Address_Zafar  \\\n",
      "0                False                False          False   \n",
      "1                False                False          False   \n",
      "2                False                False          False   \n",
      "3                False                False          False   \n",
      "4                False                False          False   \n",
      "\n",
      "   Address_Zaferanieh  Address_Zargandeh  Address_Zibadasht  \n",
      "0               False              False              False  \n",
      "1               False              False              False  \n",
      "2               False              False              False  \n",
      "3               False              False              False  \n",
      "4               False              False              False  \n",
      "\n",
      "[5 rows x 198 columns]\n"
     ]
    }
   ],
   "source": [
    "# فرض کنیم df همون دیتافریم پاکسازی شده‌ات باشه\n",
    "\n",
    "# استفاده از pandas برای One-Hot Encoding ستون Address\n",
    "df_encoded = pd.get_dummies(df, columns=['Address'], drop_first=True)\n",
    "\n",
    "# نمایش چند سطر اول برای بررسی\n",
    "print(df_encoded.head())"
   ]
  },
  {
   "cell_type": "code",
   "execution_count": 17,
   "id": "dc9d78dd-e0bf-41ec-956f-5bf6264858ee",
   "metadata": {},
   "outputs": [],
   "source": [
    "df_encoded = df_encoded.astype({col: 'int8' for col in df_encoded.columns if col.startswith('Address_')})\n"
   ]
  },
  {
   "cell_type": "code",
   "execution_count": 21,
   "id": "3525775e-253c-48ac-81c3-224c4e67c5f3",
   "metadata": {},
   "outputs": [
    {
     "data": {
      "text/plain": [
       "Index(['Area', 'Room', 'Parking', 'Warehouse', 'Elevator', 'Address', 'Price',\n",
       "       'Price(USD)'],\n",
       "      dtype='object')"
      ]
     },
     "execution_count": 21,
     "metadata": {},
     "output_type": "execute_result"
    }
   ],
   "source": [
    "df.columns"
   ]
  },
  {
   "cell_type": "code",
   "execution_count": 23,
   "id": "ddcaa633-a5e3-4893-8bff-9fe7293746dd",
   "metadata": {},
   "outputs": [
    {
     "name": "stderr",
     "output_type": "stream",
     "text": [
      "C:\\Users\\user\\anaconda3\\Lib\\site-packages\\numpy\\core\\fromnumeric.py:86: FutureWarning: The behavior of DataFrame.sum with axis=None is deprecated, in a future version this will reduce over both axes and return a scalar. To retain the old behavior, pass axis=0 (or do not pass axis)\n",
      "  return reduction(axis=axis, out=out, **passkwargs)\n"
     ]
    },
    {
     "data": {
      "text/plain": [
       "Area          0\n",
       "Room          0\n",
       "Parking       0\n",
       "Warehouse     0\n",
       "Elevator      0\n",
       "Address       0\n",
       "Price         0\n",
       "Price(USD)    0\n",
       "dtype: int64"
      ]
     },
     "execution_count": 23,
     "metadata": {},
     "output_type": "execute_result"
    }
   ],
   "source": [
    "np.sum(df.isnull())"
   ]
  },
  {
   "cell_type": "code",
   "execution_count": 29,
   "id": "227326da-e752-447b-9d47-47ac77ad58f9",
   "metadata": {},
   "outputs": [
    {
     "name": "stdout",
     "output_type": "stream",
     "text": [
      "Parking      int8\n",
      "Warehouse    int8\n",
      "Elevator     int8\n",
      "dtype: object\n",
      "    Area  Room  Parking  Warehouse  Elevator         Price  Price(USD)  \\\n",
      "0   63.0     1        1          1         1  1.850000e+09    61666.67   \n",
      "1   60.0     1        1          1         1  1.850000e+09    61666.67   \n",
      "2   79.0     2        1          1         1  5.500000e+08    18333.33   \n",
      "3   95.0     2        1          1         1  9.025000e+08    30083.33   \n",
      "4  123.0     2        1          1         1  7.000000e+09   233333.33   \n",
      "\n",
      "   Address_Abbasabad  Address_Absard  Address_Abuzar  ...  Address_Waterfall  \\\n",
      "0                  0               0               0  ...                  0   \n",
      "1                  0               0               0  ...                  0   \n",
      "2                  0               0               0  ...                  0   \n",
      "3                  0               0               0  ...                  0   \n",
      "4                  0               0               0  ...                  0   \n",
      "\n",
      "   Address_West Ferdows Boulevard  Address_West Pars  Address_Yaftabad  \\\n",
      "0                               0                  0                 0   \n",
      "1                               0                  0                 0   \n",
      "2                               0                  0                 0   \n",
      "3                               0                  0                 0   \n",
      "4                               0                  0                 0   \n",
      "\n",
      "   Address_Yakhchiabad  Address_Yousef Abad  Address_Zafar  \\\n",
      "0                    0                    0              0   \n",
      "1                    0                    0              0   \n",
      "2                    0                    0              0   \n",
      "3                    0                    0              0   \n",
      "4                    0                    0              0   \n",
      "\n",
      "   Address_Zaferanieh  Address_Zargandeh  Address_Zibadasht  \n",
      "0                   0                  0                  0  \n",
      "1                   0                  0                  0  \n",
      "2                   0                  0                  0  \n",
      "3                   0                  0                  0  \n",
      "4                   0                  0                  0  \n",
      "\n",
      "[5 rows x 198 columns]\n"
     ]
    }
   ],
   "source": [
    "# تبدیل ستون‌های مربوط به آدرس (Address_*) از بولی به عدد 0 و 1\n",
    "df_encoded = df_encoded.astype({col: 'int8' for col in df_encoded.columns if col.startswith('Address_')})\n",
    "\n",
    "# پیدا کردن همه ستون‌های بولی باقی‌مانده (مثل Parking, Warehouse, Elevator)\n",
    "bool_cols = df_encoded.select_dtypes(include=['bool']).columns\n",
    "\n",
    "# تبدیل این ستون‌های بولی به عددی (0 و 1)\n",
    "df_encoded[bool_cols] = df_encoded[bool_cols].astype('int8')\n",
    "\n",
    "# بررسی نتیجه\n",
    "print(df_encoded[bool_cols].dtypes)\n",
    "print(df_encoded.head())\n"
   ]
  },
  {
   "cell_type": "code",
   "execution_count": 31,
   "id": "65600b36-1129-46c6-b031-5e4f785bc4ed",
   "metadata": {},
   "outputs": [
    {
     "data": {
      "text/plain": [
       "208"
      ]
     },
     "execution_count": 31,
     "metadata": {},
     "output_type": "execute_result"
    }
   ],
   "source": [
    "np.sum(df.duplicated())"
   ]
  },
  {
   "cell_type": "code",
   "execution_count": 33,
   "id": "e9193ed3-2f57-483f-9a9b-b80930b4cce0",
   "metadata": {},
   "outputs": [
    {
     "name": "stdout",
     "output_type": "stream",
     "text": [
      "تعداد سطرها بعد از حذف تکراری‌ها: 3242\n"
     ]
    }
   ],
   "source": [
    "df = df.drop_duplicates()\n",
    "print(f'تعداد سطرها بعد از حذف تکراری‌ها: {len(df)}')\n"
   ]
  },
  {
   "cell_type": "code",
   "execution_count": 37,
   "id": "c4c3a058-8182-4653-a7f8-e645c2e486b4",
   "metadata": {},
   "outputs": [
    {
     "data": {
      "text/plain": [
       "5473623380.6573105"
      ]
     },
     "execution_count": 37,
     "metadata": {},
     "output_type": "execute_result"
    }
   ],
   "source": [
    "df['Price'].mean()"
   ]
  },
  {
   "cell_type": "code",
   "execution_count": 39,
   "id": "324a5505-9475-4524-8801-61d81e195e82",
   "metadata": {},
   "outputs": [
    {
     "data": {
      "text/plain": [
       "8272617136.587953"
      ]
     },
     "execution_count": 39,
     "metadata": {},
     "output_type": "execute_result"
    }
   ],
   "source": [
    "df['Price'].std()"
   ]
  },
  {
   "cell_type": "code",
   "execution_count": 41,
   "id": "614e1313-aa67-4083-8f73-28c19ca5e989",
   "metadata": {},
   "outputs": [
    {
     "data": {
      "image/png": "[encoded data removed]",
      "text/plain": [
       "<Figure size 1200x1500 with 2 Axes>"
      ]
     },
     "metadata": {},
     "output_type": "display_data"
    }
   ],
   "source": [
    "plt.boxplot(df['Price'])\n",
    "plt.show()"
   ]
  },
  {
   "cell_type": "code",
   "execution_count": 43,
   "id": "6462c15e-b949-42d7-9975-2c17db59902d",
   "metadata": {},
   "outputs": [
    {
     "name": "stdout",
     "output_type": "stream",
     "text": [
      "2970000000.0\n"
     ]
    }
   ],
   "source": [
    "print(df['Price'].median())\n"
   ]
  },
  {
   "cell_type": "code",
   "execution_count": 45,
   "id": "afa887b5-d0fc-4021-8826-f6c74293fed9",
   "metadata": {},
   "outputs": [
    {
     "name": "stdout",
     "output_type": "stream",
     "text": [
      "تعداد نمونه‌ها قبل از حذف پرت: 3242\n",
      "تعداد نمونه‌ها بعد از حذف پرت: 2965\n",
      "میانگین جدید قیمت‌ها: 3556670489.068465\n",
      "میانه جدید قیمت‌ها: 2600000000.0\n"
     ]
    }
   ],
   "source": [
    "# محاسبه چارک‌ها و IQR\n",
    "Q1 = df['Price'].quantile(0.25)\n",
    "Q3 = df['Price'].quantile(0.75)\n",
    "IQR = Q3 - Q1\n",
    "\n",
    "# تعریف بازه مجاز بدون داده‌های پرت\n",
    "lower_bound = Q1 - 1.5 * IQR\n",
    "upper_bound = Q3 + 1.5 * IQR\n",
    "\n",
    "# حذف داده‌های پرت از دیتافریم\n",
    "df_clean = df[(df['Price'] >= lower_bound) & (df['Price'] <= upper_bound)].copy()\n",
    "\n",
    "print(f'تعداد نمونه‌ها قبل از حذف پرت: {len(df)}')\n",
    "print(f'تعداد نمونه‌ها بعد از حذف پرت: {len(df_clean)}')\n",
    "print(f'میانگین جدید قیمت‌ها: {df_clean[\"Price\"].mean()}')\n",
    "print(f'میانه جدید قیمت‌ها: {df_clean[\"Price\"].median()}')\n"
   ]
  },
  {
   "cell_type": "code",
   "execution_count": 51,
   "id": "aafda39b-286c-4d10-ab35-4b16d120ca44",
   "metadata": {},
   "outputs": [
    {
     "name": "stdout",
     "output_type": "stream",
     "text": [
      "3556670489.068465\n"
     ]
    }
   ],
   "source": [
    "print(df_clean['Price'].mean())\n"
   ]
  },
  {
   "cell_type": "code",
   "execution_count": 53,
   "id": "69720b76-2e7d-4405-9445-2fb9e5dc4a5a",
   "metadata": {},
   "outputs": [
    {
     "name": "stdout",
     "output_type": "stream",
     "text": [
      "2999545211.7834134\n"
     ]
    }
   ],
   "source": [
    "print(df_clean['Price'].std())"
   ]
  },
  {
   "cell_type": "code",
   "execution_count": 55,
   "id": "5faf077c-41eb-4ec2-bd38-2e6087426c81",
   "metadata": {},
   "outputs": [
    {
     "name": "stdout",
     "output_type": "stream",
     "text": [
      "2600000000.0\n"
     ]
    }
   ],
   "source": [
    "print(df_clean['Price'].median())"
   ]
  },
  {
   "cell_type": "code",
   "execution_count": 57,
   "id": "8bca1d24-abd6-48f0-abea-f189b2efd586",
   "metadata": {},
   "outputs": [],
   "source": [
    "X = df.iloc[:, :5] \n",
    "y = df.iloc[:, -1]"
   ]
  },
  {
   "cell_type": "code",
   "execution_count": 59,
   "id": "37d85c90-c92a-4ad7-9653-eac90704d4a7",
   "metadata": {},
   "outputs": [],
   "source": [
    "# Train Test Split\n",
    "from sklearn.model_selection import train_test_split\n",
    "X_train, X_test, y_train, y_test = train_test_split(X, y, test_size=0.4, random_state = 101)"
   ]
  },
  {
   "cell_type": "code",
   "execution_count": 61,
   "id": "c39a5f82-6aea-4619-968b-201b933190c9",
   "metadata": {},
   "outputs": [
    {
     "data": {
      "text/plain": [
       "array([[-0.78152337, -1.40311193,  0.4278902 ,  0.3064731 ,  0.52001105],\n",
       "       [-0.1605488 , -0.09043627,  0.4278902 ,  0.3064731 ,  0.52001105],\n",
       "       [-0.50553467, -0.09043627,  0.4278902 ,  0.3064731 ,  0.52001105],\n",
       "       ...,\n",
       "       [ 0.07404159, -0.09043627,  0.4278902 ,  0.3064731 ,  0.52001105],\n",
       "       [-0.21574654, -0.09043627,  0.4278902 ,  0.3064731 ,  0.52001105],\n",
       "       [-0.1605488 , -0.09043627,  0.4278902 ,  0.3064731 ,  0.52001105]])"
      ]
     },
     "execution_count": 61,
     "metadata": {},
     "output_type": "execute_result"
    }
   ],
   "source": [
    "# Standardize\n",
    "from sklearn.preprocessing import StandardScaler\n",
    "sc = StandardScaler()\n",
    "sc.fit(X_train)\n",
    "StandardScaler()\n",
    "X_train_scaled=sc.transform(X_train)\n",
    "X_train_scaled1 = sc.fit_transform(X_train)\n",
    "X_train_scaled"
   ]
  },
  {
   "cell_type": "code",
   "execution_count": 63,
   "id": "74c0ed69-ed23-4873-86f9-371b31df648f",
   "metadata": {},
   "outputs": [
    {
     "data": {
      "text/html": [
       "<div>\n",
       "<style scoped>\n",
       "    .dataframe tbody tr th:only-of-type {\n",
       "        vertical-align: middle;\n",
       "    }\n",
       "\n",
       "    .dataframe tbody tr th {\n",
       "        vertical-align: top;\n",
       "    }\n",
       "\n",
       "    .dataframe thead th {\n",
       "        text-align: right;\n",
       "    }\n",
       "</style>\n",
       "<table border=\"1\" class=\"dataframe\">\n",
       "  <thead>\n",
       "    <tr style=\"text-align: right;\">\n",
       "      <th></th>\n",
       "      <th>Area</th>\n",
       "      <th>Room</th>\n",
       "      <th>Parking</th>\n",
       "      <th>Warehouse</th>\n",
       "      <th>Elevator</th>\n",
       "    </tr>\n",
       "  </thead>\n",
       "  <tbody>\n",
       "    <tr>\n",
       "      <th>0</th>\n",
       "      <td>-0.781523</td>\n",
       "      <td>-1.403112</td>\n",
       "      <td>0.42789</td>\n",
       "      <td>0.306473</td>\n",
       "      <td>0.520011</td>\n",
       "    </tr>\n",
       "    <tr>\n",
       "      <th>1</th>\n",
       "      <td>-0.160549</td>\n",
       "      <td>-0.090436</td>\n",
       "      <td>0.42789</td>\n",
       "      <td>0.306473</td>\n",
       "      <td>0.520011</td>\n",
       "    </tr>\n",
       "    <tr>\n",
       "      <th>2</th>\n",
       "      <td>-0.505535</td>\n",
       "      <td>-0.090436</td>\n",
       "      <td>0.42789</td>\n",
       "      <td>0.306473</td>\n",
       "      <td>0.520011</td>\n",
       "    </tr>\n",
       "    <tr>\n",
       "      <th>3</th>\n",
       "      <td>-0.519334</td>\n",
       "      <td>-0.090436</td>\n",
       "      <td>0.42789</td>\n",
       "      <td>0.306473</td>\n",
       "      <td>0.520011</td>\n",
       "    </tr>\n",
       "    <tr>\n",
       "      <th>4</th>\n",
       "      <td>-0.091552</td>\n",
       "      <td>-0.090436</td>\n",
       "      <td>0.42789</td>\n",
       "      <td>0.306473</td>\n",
       "      <td>0.520011</td>\n",
       "    </tr>\n",
       "    <tr>\n",
       "      <th>...</th>\n",
       "      <td>...</td>\n",
       "      <td>...</td>\n",
       "      <td>...</td>\n",
       "      <td>...</td>\n",
       "      <td>...</td>\n",
       "    </tr>\n",
       "    <tr>\n",
       "      <th>1940</th>\n",
       "      <td>-0.671128</td>\n",
       "      <td>-0.090436</td>\n",
       "      <td>0.42789</td>\n",
       "      <td>0.306473</td>\n",
       "      <td>-1.923036</td>\n",
       "    </tr>\n",
       "    <tr>\n",
       "      <th>1941</th>\n",
       "      <td>6.118194</td>\n",
       "      <td>1.222239</td>\n",
       "      <td>0.42789</td>\n",
       "      <td>0.306473</td>\n",
       "      <td>-1.923036</td>\n",
       "    </tr>\n",
       "    <tr>\n",
       "      <th>1942</th>\n",
       "      <td>0.074042</td>\n",
       "      <td>-0.090436</td>\n",
       "      <td>0.42789</td>\n",
       "      <td>0.306473</td>\n",
       "      <td>0.520011</td>\n",
       "    </tr>\n",
       "    <tr>\n",
       "      <th>1943</th>\n",
       "      <td>-0.215747</td>\n",
       "      <td>-0.090436</td>\n",
       "      <td>0.42789</td>\n",
       "      <td>0.306473</td>\n",
       "      <td>0.520011</td>\n",
       "    </tr>\n",
       "    <tr>\n",
       "      <th>1944</th>\n",
       "      <td>-0.160549</td>\n",
       "      <td>-0.090436</td>\n",
       "      <td>0.42789</td>\n",
       "      <td>0.306473</td>\n",
       "      <td>0.520011</td>\n",
       "    </tr>\n",
       "  </tbody>\n",
       "</table>\n",
       "<p>1945 rows × 5 columns</p>\n",
       "</div>"
      ],
      "text/plain": [
       "          Area      Room  Parking  Warehouse  Elevator\n",
       "0    -0.781523 -1.403112  0.42789   0.306473  0.520011\n",
       "1    -0.160549 -0.090436  0.42789   0.306473  0.520011\n",
       "2    -0.505535 -0.090436  0.42789   0.306473  0.520011\n",
       "3    -0.519334 -0.090436  0.42789   0.306473  0.520011\n",
       "4    -0.091552 -0.090436  0.42789   0.306473  0.520011\n",
       "...        ...       ...      ...        ...       ...\n",
       "1940 -0.671128 -0.090436  0.42789   0.306473 -1.923036\n",
       "1941  6.118194  1.222239  0.42789   0.306473 -1.923036\n",
       "1942  0.074042 -0.090436  0.42789   0.306473  0.520011\n",
       "1943 -0.215747 -0.090436  0.42789   0.306473  0.520011\n",
       "1944 -0.160549 -0.090436  0.42789   0.306473  0.520011\n",
       "\n",
       "[1945 rows x 5 columns]"
      ]
     },
     "execution_count": 63,
     "metadata": {},
     "output_type": "execute_result"
    }
   ],
   "source": [
    "col=X.columns\n",
    "X_train_scaled = pd.DataFrame(X_train_scaled, columns=col)\n",
    "X_train_scaled"
   ]
  },
  {
   "cell_type": "code",
   "execution_count": 65,
   "id": "93953376-44b4-47b3-bae1-27952a0abe81",
   "metadata": {},
   "outputs": [
    {
     "data": {
      "text/html": [
       "<div>\n",
       "<style scoped>\n",
       "    .dataframe tbody tr th:only-of-type {\n",
       "        vertical-align: middle;\n",
       "    }\n",
       "\n",
       "    .dataframe tbody tr th {\n",
       "        vertical-align: top;\n",
       "    }\n",
       "\n",
       "    .dataframe thead th {\n",
       "        text-align: right;\n",
       "    }\n",
       "</style>\n",
       "<table border=\"1\" class=\"dataframe\">\n",
       "  <thead>\n",
       "    <tr style=\"text-align: right;\">\n",
       "      <th></th>\n",
       "      <th>Area</th>\n",
       "      <th>Room</th>\n",
       "      <th>Parking</th>\n",
       "      <th>Warehouse</th>\n",
       "      <th>Elevator</th>\n",
       "    </tr>\n",
       "  </thead>\n",
       "  <tbody>\n",
       "    <tr>\n",
       "      <th>0</th>\n",
       "      <td>0.598420</td>\n",
       "      <td>1.222239</td>\n",
       "      <td>0.427890</td>\n",
       "      <td>0.306473</td>\n",
       "      <td>0.520011</td>\n",
       "    </tr>\n",
       "    <tr>\n",
       "      <th>1</th>\n",
       "      <td>0.018844</td>\n",
       "      <td>-0.090436</td>\n",
       "      <td>0.427890</td>\n",
       "      <td>0.306473</td>\n",
       "      <td>0.520011</td>\n",
       "    </tr>\n",
       "    <tr>\n",
       "      <th>2</th>\n",
       "      <td>0.253434</td>\n",
       "      <td>1.222239</td>\n",
       "      <td>0.427890</td>\n",
       "      <td>0.306473</td>\n",
       "      <td>0.520011</td>\n",
       "    </tr>\n",
       "    <tr>\n",
       "      <th>3</th>\n",
       "      <td>-0.574532</td>\n",
       "      <td>-0.090436</td>\n",
       "      <td>0.427890</td>\n",
       "      <td>0.306473</td>\n",
       "      <td>0.520011</td>\n",
       "    </tr>\n",
       "    <tr>\n",
       "      <th>4</th>\n",
       "      <td>-0.229546</td>\n",
       "      <td>-0.090436</td>\n",
       "      <td>0.427890</td>\n",
       "      <td>0.306473</td>\n",
       "      <td>0.520011</td>\n",
       "    </tr>\n",
       "    <tr>\n",
       "      <th>...</th>\n",
       "      <td>...</td>\n",
       "      <td>...</td>\n",
       "      <td>...</td>\n",
       "      <td>...</td>\n",
       "      <td>...</td>\n",
       "    </tr>\n",
       "    <tr>\n",
       "      <th>1292</th>\n",
       "      <td>-0.395139</td>\n",
       "      <td>-0.090436</td>\n",
       "      <td>0.427890</td>\n",
       "      <td>0.306473</td>\n",
       "      <td>-1.923036</td>\n",
       "    </tr>\n",
       "    <tr>\n",
       "      <th>1293</th>\n",
       "      <td>-0.615930</td>\n",
       "      <td>-0.090436</td>\n",
       "      <td>0.427890</td>\n",
       "      <td>0.306473</td>\n",
       "      <td>0.520011</td>\n",
       "    </tr>\n",
       "    <tr>\n",
       "      <th>1294</th>\n",
       "      <td>-0.477936</td>\n",
       "      <td>-0.090436</td>\n",
       "      <td>-2.337048</td>\n",
       "      <td>0.306473</td>\n",
       "      <td>-1.923036</td>\n",
       "    </tr>\n",
       "    <tr>\n",
       "      <th>1295</th>\n",
       "      <td>-0.436537</td>\n",
       "      <td>-0.090436</td>\n",
       "      <td>-2.337048</td>\n",
       "      <td>-3.262929</td>\n",
       "      <td>-1.923036</td>\n",
       "    </tr>\n",
       "    <tr>\n",
       "      <th>1296</th>\n",
       "      <td>-0.505535</td>\n",
       "      <td>-0.090436</td>\n",
       "      <td>-2.337048</td>\n",
       "      <td>0.306473</td>\n",
       "      <td>0.520011</td>\n",
       "    </tr>\n",
       "  </tbody>\n",
       "</table>\n",
       "<p>1297 rows × 5 columns</p>\n",
       "</div>"
      ],
      "text/plain": [
       "          Area      Room   Parking  Warehouse  Elevator\n",
       "0     0.598420  1.222239  0.427890   0.306473  0.520011\n",
       "1     0.018844 -0.090436  0.427890   0.306473  0.520011\n",
       "2     0.253434  1.222239  0.427890   0.306473  0.520011\n",
       "3    -0.574532 -0.090436  0.427890   0.306473  0.520011\n",
       "4    -0.229546 -0.090436  0.427890   0.306473  0.520011\n",
       "...        ...       ...       ...        ...       ...\n",
       "1292 -0.395139 -0.090436  0.427890   0.306473 -1.923036\n",
       "1293 -0.615930 -0.090436  0.427890   0.306473  0.520011\n",
       "1294 -0.477936 -0.090436 -2.337048   0.306473 -1.923036\n",
       "1295 -0.436537 -0.090436 -2.337048  -3.262929 -1.923036\n",
       "1296 -0.505535 -0.090436 -2.337048   0.306473  0.520011\n",
       "\n",
       "[1297 rows x 5 columns]"
      ]
     },
     "execution_count": 65,
     "metadata": {},
     "output_type": "execute_result"
    }
   ],
   "source": [
    "X_test_scaled=sc.transform(X_test)\n",
    "col=X.columns\n",
    "X_test_scaled = pd.DataFrame(X_test_scaled, columns=col)\n",
    "X_test_scaled"
   ]
  },
  {
   "cell_type": "code",
   "execution_count": 67,
   "id": "8ca26023-cd57-40b9-9269-f0d259891fbc",
   "metadata": {},
   "outputs": [],
   "source": [
    "X_train= X_train_scaled\n",
    "X_test= X_test_scaled"
   ]
  },
  {
   "cell_type": "code",
   "execution_count": 69,
   "id": "f0a9e635-1951-43cb-aedb-dfe398488c1c",
   "metadata": {},
   "outputs": [
    {
     "data": {
      "text/html": [
       "<style>#sk-container-id-1 {\n",
       "  /* Definition of color scheme common for light and dark mode */\n",
       "  --sklearn-color-text: black;\n",
       "  --sklearn-color-line: gray;\n",
       "  /* Definition of color scheme for unfitted estimators */\n",
       "  --sklearn-color-unfitted-level-0: #fff5e6;\n",
       "  --sklearn-color-unfitted-level-1: #f6e4d2;\n",
       "  --sklearn-color-unfitted-level-2: #ffe0b3;\n",
       "  --sklearn-color-unfitted-level-3: chocolate;\n",
       "  /* Definition of color scheme for fitted estimators */\n",
       "  --sklearn-color-fitted-level-0: #f0f8ff;\n",
       "  --sklearn-color-fitted-level-1: #d4ebff;\n",
       "  --sklearn-color-fitted-level-2: #b3dbfd;\n",
       "  --sklearn-color-fitted-level-3: cornflowerblue;\n",
       "\n",
       "  /* Specific color for light theme */\n",
       "  --sklearn-color-text-on-default-background: var(--sg-text-color, var(--theme-code-foreground, var(--jp-content-font-color1, black)));\n",
       "  --sklearn-color-background: var(--sg-background-color, var(--theme-background, var(--jp-layout-color0, white)));\n",
       "  --sklearn-color-border-box: var(--sg-text-color, var(--theme-code-foreground, var(--jp-content-font-color1, black)));\n",
       "  --sklearn-color-icon: #696969;\n",
       "\n",
       "  @media (prefers-color-scheme: dark) {\n",
       "    /* Redefinition of color scheme for dark theme */\n",
       "    --sklearn-color-text-on-default-background: var(--sg-text-color, var(--theme-code-foreground, var(--jp-content-font-color1, white)));\n",
       "    --sklearn-color-background: var(--sg-background-color, var(--theme-background, var(--jp-layout-color0, #111)));\n",
       "    --sklearn-color-border-box: var(--sg-text-color, var(--theme-code-foreground, var(--jp-content-font-color1, white)));\n",
       "    --sklearn-color-icon: #878787;\n",
       "  }\n",
       "}\n",
       "\n",
       "#sk-container-id-1 {\n",
       "  color: var(--sklearn-color-text);\n",
       "}\n",
       "\n",
       "#sk-container-id-1 pre {\n",
       "  padding: 0;\n",
       "}\n",
       "\n",
       "#sk-container-id-1 input.sk-hidden--visually {\n",
       "  border: 0;\n",
       "  clip: rect(1px 1px 1px 1px);\n",
       "  clip: rect(1px, 1px, 1px, 1px);\n",
       "  height: 1px;\n",
       "  margin: -1px;\n",
       "  overflow: hidden;\n",
       "  padding: 0;\n",
       "  position: absolute;\n",
       "  width: 1px;\n",
       "}\n",
       "\n",
       "#sk-container-id-1 div.sk-dashed-wrapped {\n",
       "  border: 1px dashed var(--sklearn-color-line);\n",
       "  margin: 0 0.4em 0.5em 0.4em;\n",
       "  box-sizing: border-box;\n",
       "  padding-bottom: 0.4em;\n",
       "  background-color: var(--sklearn-color-background);\n",
       "}\n",
       "\n",
       "#sk-container-id-1 div.sk-container {\n",
       "  /* jupyter's `normalize.less` sets `[hidden] { display: none; }`\n",
       "     but bootstrap.min.css set `[hidden] { display: none !important; }`\n",
       "     so we also need the `!important` here to be able to override the\n",
       "     default hidden behavior on the sphinx rendered scikit-learn.org.\n",
       "     See: https://github.com/scikit-learn/scikit-learn/issues/21755 */\n",
       "  display: inline-block !important;\n",
       "  position: relative;\n",
       "}\n",
       "\n",
       "#sk-container-id-1 div.sk-text-repr-fallback {\n",
       "  display: none;\n",
       "}\n",
       "\n",
       "div.sk-parallel-item,\n",
       "div.sk-serial,\n",
       "div.sk-item {\n",
       "  /* draw centered vertical line to link estimators */\n",
       "  background-image: linear-gradient(var(--sklearn-color-text-on-default-background), var(--sklearn-color-text-on-default-background));\n",
       "  background-size: 2px 100%;\n",
       "  background-repeat: no-repeat;\n",
       "  background-position: center center;\n",
       "}\n",
       "\n",
       "/* Parallel-specific style estimator block */\n",
       "\n",
       "#sk-container-id-1 div.sk-parallel-item::after {\n",
       "  content: \"\";\n",
       "  width: 100%;\n",
       "  border-bottom: 2px solid var(--sklearn-color-text-on-default-background);\n",
       "  flex-grow: 1;\n",
       "}\n",
       "\n",
       "#sk-container-id-1 div.sk-parallel {\n",
       "  display: flex;\n",
       "  align-items: stretch;\n",
       "  justify-content: center;\n",
       "  background-color: var(--sklearn-color-background);\n",
       "  position: relative;\n",
       "}\n",
       "\n",
       "#sk-container-id-1 div.sk-parallel-item {\n",
       "  display: flex;\n",
       "  flex-direction: column;\n",
       "}\n",
       "\n",
       "#sk-container-id-1 div.sk-parallel-item:first-child::after {\n",
       "  align-self: flex-end;\n",
       "  width: 50%;\n",
       "}\n",
       "\n",
       "#sk-container-id-1 div.sk-parallel-item:last-child::after {\n",
       "  align-self: flex-start;\n",
       "  width: 50%;\n",
       "}\n",
       "\n",
       "#sk-container-id-1 div.sk-parallel-item:only-child::after {\n",
       "  width: 0;\n",
       "}\n",
       "\n",
       "/* Serial-specific style estimator block */\n",
       "\n",
       "#sk-container-id-1 div.sk-serial {\n",
       "  display: flex;\n",
       "  flex-direction: column;\n",
       "  align-items: center;\n",
       "  background-color: var(--sklearn-color-background);\n",
       "  padding-right: 1em;\n",
       "  padding-left: 1em;\n",
       "}\n",
       "\n",
       "\n",
       "/* Toggleable style: style used for estimator/Pipeline/ColumnTransformer box that is\n",
       "clickable and can be expanded/collapsed.\n",
       "- Pipeline and ColumnTransformer use this feature and define the default style\n",
       "- Estimators will overwrite some part of the style using the `sk-estimator` class\n",
       "*/\n",
       "\n",
       "/* Pipeline and ColumnTransformer style (default) */\n",
       "\n",
       "#sk-container-id-1 div.sk-toggleable {\n",
       "  /* Default theme specific background. It is overwritten whether we have a\n",
       "  specific estimator or a Pipeline/ColumnTransformer */\n",
       "  background-color: var(--sklearn-color-background);\n",
       "}\n",
       "\n",
       "/* Toggleable label */\n",
       "#sk-container-id-1 label.sk-toggleable__label {\n",
       "  cursor: pointer;\n",
       "  display: block;\n",
       "  width: 100%;\n",
       "  margin-bottom: 0;\n",
       "  padding: 0.5em;\n",
       "  box-sizing: border-box;\n",
       "  text-align: center;\n",
       "}\n",
       "\n",
       "#sk-container-id-1 label.sk-toggleable__label-arrow:before {\n",
       "  /* Arrow on the left of the label */\n",
       "  content: \"▸\";\n",
       "  float: left;\n",
       "  margin-right: 0.25em;\n",
       "  color: var(--sklearn-color-icon);\n",
       "}\n",
       "\n",
       "#sk-container-id-1 label.sk-toggleable__label-arrow:hover:before {\n",
       "  color: var(--sklearn-color-text);\n",
       "}\n",
       "\n",
       "/* Toggleable content - dropdown */\n",
       "\n",
       "#sk-container-id-1 div.sk-toggleable__content {\n",
       "  max-height: 0;\n",
       "  max-width: 0;\n",
       "  overflow: hidden;\n",
       "  text-align: left;\n",
       "  /* unfitted */\n",
       "  background-color: var(--sklearn-color-unfitted-level-0);\n",
       "}\n",
       "\n",
       "#sk-container-id-1 div.sk-toggleable__content.fitted {\n",
       "  /* fitted */\n",
       "  background-color: var(--sklearn-color-fitted-level-0);\n",
       "}\n",
       "\n",
       "#sk-container-id-1 div.sk-toggleable__content pre {\n",
       "  margin: 0.2em;\n",
       "  border-radius: 0.25em;\n",
       "  color: var(--sklearn-color-text);\n",
       "  /* unfitted */\n",
       "  background-color: var(--sklearn-color-unfitted-level-0);\n",
       "}\n",
       "\n",
       "#sk-container-id-1 div.sk-toggleable__content.fitted pre {\n",
       "  /* unfitted */\n",
       "  background-color: var(--sklearn-color-fitted-level-0);\n",
       "}\n",
       "\n",
       "#sk-container-id-1 input.sk-toggleable__control:checked~div.sk-toggleable__content {\n",
       "  /* Expand drop-down */\n",
       "  max-height: 200px;\n",
       "  max-width: 100%;\n",
       "  overflow: auto;\n",
       "}\n",
       "\n",
       "#sk-container-id-1 input.sk-toggleable__control:checked~label.sk-toggleable__label-arrow:before {\n",
       "  content: \"▾\";\n",
       "}\n",
       "\n",
       "/* Pipeline/ColumnTransformer-specific style */\n",
       "\n",
       "#sk-container-id-1 div.sk-label input.sk-toggleable__control:checked~label.sk-toggleable__label {\n",
       "  color: var(--sklearn-color-text);\n",
       "  background-color: var(--sklearn-color-unfitted-level-2);\n",
       "}\n",
       "\n",
       "#sk-container-id-1 div.sk-label.fitted input.sk-toggleable__control:checked~label.sk-toggleable__label {\n",
       "  background-color: var(--sklearn-color-fitted-level-2);\n",
       "}\n",
       "\n",
       "/* Estimator-specific style */\n",
       "\n",
       "/* Colorize estimator box */\n",
       "#sk-container-id-1 div.sk-estimator input.sk-toggleable__control:checked~label.sk-toggleable__label {\n",
       "  /* unfitted */\n",
       "  background-color: var(--sklearn-color-unfitted-level-2);\n",
       "}\n",
       "\n",
       "#sk-container-id-1 div.sk-estimator.fitted input.sk-toggleable__control:checked~label.sk-toggleable__label {\n",
       "  /* fitted */\n",
       "  background-color: var(--sklearn-color-fitted-level-2);\n",
       "}\n",
       "\n",
       "#sk-container-id-1 div.sk-label label.sk-toggleable__label,\n",
       "#sk-container-id-1 div.sk-label label {\n",
       "  /* The background is the default theme color */\n",
       "  color: var(--sklearn-color-text-on-default-background);\n",
       "}\n",
       "\n",
       "/* On hover, darken the color of the background */\n",
       "#sk-container-id-1 div.sk-label:hover label.sk-toggleable__label {\n",
       "  color: var(--sklearn-color-text);\n",
       "  background-color: var(--sklearn-color-unfitted-level-2);\n",
       "}\n",
       "\n",
       "/* Label box, darken color on hover, fitted */\n",
       "#sk-container-id-1 div.sk-label.fitted:hover label.sk-toggleable__label.fitted {\n",
       "  color: var(--sklearn-color-text);\n",
       "  background-color: var(--sklearn-color-fitted-level-2);\n",
       "}\n",
       "\n",
       "/* Estimator label */\n",
       "\n",
       "#sk-container-id-1 div.sk-label label {\n",
       "  font-family: monospace;\n",
       "  font-weight: bold;\n",
       "  display: inline-block;\n",
       "  line-height: 1.2em;\n",
       "}\n",
       "\n",
       "#sk-container-id-1 div.sk-label-container {\n",
       "  text-align: center;\n",
       "}\n",
       "\n",
       "/* Estimator-specific */\n",
       "#sk-container-id-1 div.sk-estimator {\n",
       "  font-family: monospace;\n",
       "  border: 1px dotted var(--sklearn-color-border-box);\n",
       "  border-radius: 0.25em;\n",
       "  box-sizing: border-box;\n",
       "  margin-bottom: 0.5em;\n",
       "  /* unfitted */\n",
       "  background-color: var(--sklearn-color-unfitted-level-0);\n",
       "}\n",
       "\n",
       "#sk-container-id-1 div.sk-estimator.fitted {\n",
       "  /* fitted */\n",
       "  background-color: var(--sklearn-color-fitted-level-0);\n",
       "}\n",
       "\n",
       "/* on hover */\n",
       "#sk-container-id-1 div.sk-estimator:hover {\n",
       "  /* unfitted */\n",
       "  background-color: var(--sklearn-color-unfitted-level-2);\n",
       "}\n",
       "\n",
       "#sk-container-id-1 div.sk-estimator.fitted:hover {\n",
       "  /* fitted */\n",
       "  background-color: var(--sklearn-color-fitted-level-2);\n",
       "}\n",
       "\n",
       "/* Specification for estimator info (e.g. \"i\" and \"?\") */\n",
       "\n",
       "/* Common style for \"i\" and \"?\" */\n",
       "\n",
       ".sk-estimator-doc-link,\n",
       "a:link.sk-estimator-doc-link,\n",
       "a:visited.sk-estimator-doc-link {\n",
       "  float: right;\n",
       "  font-size: smaller;\n",
       "  line-height: 1em;\n",
       "  font-family: monospace;\n",
       "  background-color: var(--sklearn-color-background);\n",
       "  border-radius: 1em;\n",
       "  height: 1em;\n",
       "  width: 1em;\n",
       "  text-decoration: none !important;\n",
       "  margin-left: 1ex;\n",
       "  /* unfitted */\n",
       "  border: var(--sklearn-color-unfitted-level-1) 1pt solid;\n",
       "  color: var(--sklearn-color-unfitted-level-1);\n",
       "}\n",
       "\n",
       ".sk-estimator-doc-link.fitted,\n",
       "a:link.sk-estimator-doc-link.fitted,\n",
       "a:visited.sk-estimator-doc-link.fitted {\n",
       "  /* fitted */\n",
       "  border: var(--sklearn-color-fitted-level-1) 1pt solid;\n",
       "  color: var(--sklearn-color-fitted-level-1);\n",
       "}\n",
       "\n",
       "/* On hover */\n",
       "div.sk-estimator:hover .sk-estimator-doc-link:hover,\n",
       ".sk-estimator-doc-link:hover,\n",
       "div.sk-label-container:hover .sk-estimator-doc-link:hover,\n",
       ".sk-estimator-doc-link:hover {\n",
       "  /* unfitted */\n",
       "  background-color: var(--sklearn-color-unfitted-level-3);\n",
       "  color: var(--sklearn-color-background);\n",
       "  text-decoration: none;\n",
       "}\n",
       "\n",
       "div.sk-estimator.fitted:hover .sk-estimator-doc-link.fitted:hover,\n",
       ".sk-estimator-doc-link.fitted:hover,\n",
       "div.sk-label-container:hover .sk-estimator-doc-link.fitted:hover,\n",
       ".sk-estimator-doc-link.fitted:hover {\n",
       "  /* fitted */\n",
       "  background-color: var(--sklearn-color-fitted-level-3);\n",
       "  color: var(--sklearn-color-background);\n",
       "  text-decoration: none;\n",
       "}\n",
       "\n",
       "/* Span, style for the box shown on hovering the info icon */\n",
       ".sk-estimator-doc-link span {\n",
       "  display: none;\n",
       "  z-index: 9999;\n",
       "  position: relative;\n",
       "  font-weight: normal;\n",
       "  right: .2ex;\n",
       "  padding: .5ex;\n",
       "  margin: .5ex;\n",
       "  width: min-content;\n",
       "  min-width: 20ex;\n",
       "  max-width: 50ex;\n",
       "  color: var(--sklearn-color-text);\n",
       "  box-shadow: 2pt 2pt 4pt #999;\n",
       "  /* unfitted */\n",
       "  background: var(--sklearn-color-unfitted-level-0);\n",
       "  border: .5pt solid var(--sklearn-color-unfitted-level-3);\n",
       "}\n",
       "\n",
       ".sk-estimator-doc-link.fitted span {\n",
       "  /* fitted */\n",
       "  background: var(--sklearn-color-fitted-level-0);\n",
       "  border: var(--sklearn-color-fitted-level-3);\n",
       "}\n",
       "\n",
       ".sk-estimator-doc-link:hover span {\n",
       "  display: block;\n",
       "}\n",
       "\n",
       "/* \"?\"-specific style due to the `<a>` HTML tag */\n",
       "\n",
       "#sk-container-id-1 a.estimator_doc_link {\n",
       "  float: right;\n",
       "  font-size: 1rem;\n",
       "  line-height: 1em;\n",
       "  font-family: monospace;\n",
       "  background-color: var(--sklearn-color-background);\n",
       "  border-radius: 1rem;\n",
       "  height: 1rem;\n",
       "  width: 1rem;\n",
       "  text-decoration: none;\n",
       "  /* unfitted */\n",
       "  color: var(--sklearn-color-unfitted-level-1);\n",
       "  border: var(--sklearn-color-unfitted-level-1) 1pt solid;\n",
       "}\n",
       "\n",
       "#sk-container-id-1 a.estimator_doc_link.fitted {\n",
       "  /* fitted */\n",
       "  border: var(--sklearn-color-fitted-level-1) 1pt solid;\n",
       "  color: var(--sklearn-color-fitted-level-1);\n",
       "}\n",
       "\n",
       "/* On hover */\n",
       "#sk-container-id-1 a.estimator_doc_link:hover {\n",
       "  /* unfitted */\n",
       "  background-color: var(--sklearn-color-unfitted-level-3);\n",
       "  color: var(--sklearn-color-background);\n",
       "  text-decoration: none;\n",
       "}\n",
       "\n",
       "#sk-container-id-1 a.estimator_doc_link.fitted:hover {\n",
       "  /* fitted */\n",
       "  background-color: var(--sklearn-color-fitted-level-3);\n",
       "}\n",
       "</style><div id=\"sk-container-id-1\" class=\"sk-top-container\"><div class=\"sk-text-repr-fallback\"><pre>LinearRegression()</pre><b>In a Jupyter environment, please rerun this cell to show the HTML representation or trust the notebook. <br />On GitHub, the HTML representation is unable to render, please try loading this page with nbviewer.org.</b></div><div class=\"sk-container\" hidden><div class=\"sk-item\"><div class=\"sk-estimator  sk-toggleable\"><input class=\"sk-toggleable__control sk-hidden--visually\" id=\"sk-estimator-id-1\" type=\"checkbox\" checked><label for=\"sk-estimator-id-1\" class=\"sk-toggleable__label  sk-toggleable__label-arrow \">&nbsp;&nbsp;LinearRegression<a class=\"sk-estimator-doc-link \" rel=\"noreferrer\" target=\"_blank\" href=\"https://scikit-learn.org/1.5/modules/generated/sklearn.linear_model.LinearRegression.html\">?<span>Documentation for LinearRegression</span></a><span class=\"sk-estimator-doc-link \">i<span>Not fitted</span></span></label><div class=\"sk-toggleable__content \"><pre>LinearRegression()</pre></div> </div></div></div></div>"
      ],
      "text/plain": [
       "LinearRegression()"
      ]
     },
     "execution_count": 69,
     "metadata": {},
     "output_type": "execute_result"
    }
   ],
   "source": [
    "# Creating and Training the Model\n",
    "from sklearn.linear_model import LinearRegression\n",
    "lm = LinearRegression()\n",
    "lm.fit(X_train,y_train)\n",
    "LinearRegression()"
   ]
  },
  {
   "cell_type": "code",
   "execution_count": 71,
   "id": "40668ee0-7ca9-42b8-b5d1-9f9ad4533c7d",
   "metadata": {},
   "outputs": [
    {
     "name": "stdout",
     "output_type": "stream",
     "text": [
      "176796.83121850903\n"
     ]
    }
   ],
   "source": [
    "# Find Model Coefficients\n",
    "# print the intercept(b0)\n",
    "print(lm.intercept_)"
   ]
  },
  {
   "cell_type": "code",
   "execution_count": 73,
   "id": "0b07dd69-bce2-4cb5-ae6d-ceb181529aed",
   "metadata": {},
   "outputs": [
    {
     "name": "stdout",
     "output_type": "stream",
     "text": [
      "[146089.90205896  54369.33491427  -4891.00273097  11831.01311145\n",
      "  14231.84826454]\n"
     ]
    }
   ],
   "source": [
    "# print the coefficients(b1, b2, ...)\n",
    "print(lm.coef_)"
   ]
  },
  {
   "cell_type": "code",
   "execution_count": 75,
   "id": "7ec9bffc-08a5-4b67-acf6-e75706a48f99",
   "metadata": {},
   "outputs": [
    {
     "data": {
      "text/plain": [
       "array([339606.1045119 , 183566.56203033, 289207.15240611, ...,\n",
       "        89746.31636979,  53564.54592896, 120483.47581936])"
      ]
     },
     "execution_count": 75,
     "metadata": {},
     "output_type": "execute_result"
    }
   ],
   "source": [
    "# Prediction\n",
    "predictions = lm.predict(X_test)\n",
    "#y hat\n",
    "predictions"
   ]
  },
  {
   "cell_type": "code",
   "execution_count": 77,
   "id": "43b005ad-fe19-444a-b4c3-ae534802ca5b",
   "metadata": {},
   "outputs": [
    {
     "data": {
      "text/plain": [
       "<Axes: xlabel='Price(USD)'>"
      ]
     },
     "execution_count": 77,
     "metadata": {},
     "output_type": "execute_result"
    }
   ],
   "source": [
    "# مقایسه ایگرگ های تست و مقدار پیش بینی شده\n",
    "sns.scatterplot(x=y_test, y=predictions)"
   ]
  },
  {
   "cell_type": "code",
   "execution_count": 79,
   "id": "b7d8d25e-8255-47b6-b322-98f790c50982",
   "metadata": {},
   "outputs": [
    {
     "name": "stderr",
     "output_type": "stream",
     "text": [
      "C:\\Users\\user\\AppData\\Local\\Temp\\ipykernel_12956\\540702191.py:4: UserWarning: \n",
      "\n",
      "`distplot` is a deprecated function and will be removed in seaborn v0.14.0.\n",
      "\n",
      "Please adapt your code to use either `displot` (a figure-level function with\n",
      "similar flexibility) or `histplot` (an axes-level function for histograms).\n",
      "\n",
      "For a guide to updating your code to use the new functions, please see\n",
      "https://gist.github.com/mwaskom/de44147ed2974457ad6372750bbe5751\n",
      "\n",
      "  sns.distplot(residual,bins=50);\n"
     ]
    }
   ],
   "source": [
    "# Residual Histogram\n",
    "\n",
    "residual= y_test-predictions\n",
    "sns.distplot(residual,bins=50);"
   ]
  },
  {
   "cell_type": "code",
   "execution_count": 81,
   "id": "19f9ab2a-e5ce-4189-b768-35fbb61e856c",
   "metadata": {},
   "outputs": [
    {
     "name": "stdout",
     "output_type": "stream",
     "text": [
      "MAE: 100106.45224183513\n",
      "MSE: 33000496405.215736\n",
      "RMSE: 181660.3875510997\n",
      "R2: 0.7674851724334564\n"
     ]
    }
   ],
   "source": [
    "from sklearn import metrics\n",
    "print('MAE:', metrics.mean_absolute_error(y_test, predictions))\n",
    "print('MSE:', metrics.mean_squared_error(y_test, predictions))\n",
    "print('RMSE:', np.sqrt(metrics.mean_squared_error(y_test, predictions)))\n",
    "print('R2:', np.sqrt(metrics.r2_score(y_test, predictions)))"
   ]
  },
  {
   "cell_type": "code",
   "execution_count": null,
   "id": "d54c071a-9f66-4e2d-b12d-2d3535a72854",
   "metadata": {},
   "outputs": [],
   "source": []
  }
 ],
 "metadata": {
  "kernelspec": {
   "display_name": "Python [conda env:base] *",
   "language": "python",
   "name": "conda-base-py"
  },
  "language_info": {
   "codemirror_mode": {
    "name": "ipython",
    "version": 3
   },
   "file_extension": ".py",
   "mimetype": "text/x-python",
   "name": "python",
   "nbconvert_exporter": "python",
   "pygments_lexer": "ipython3",
   "version": "3.12.7"
  }
 },
 "nbformat": 4,
 "nbformat_minor": 5
}
